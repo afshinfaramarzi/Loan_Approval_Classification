{
 "cells": [
  {
   "cell_type": "markdown",
   "id": "03994a7e",
   "metadata": {},
   "source": [
    "<h2> Data set explanations: </h2>\n",
    "        \n",
    "<ul>\n",
    "<li> There are different features (columns) in our data. These features include demographic and economic information about a person. Analysis of this data can be done using various machine learning or data analysis techniques.</li>\n",
    "\n",
    "<li> For example, classification models can be trained on this data. The data shows whether a loan application has been approved by the people listed in the \"approval\" column. The data in the columns \"age\", \"job\", \"marital\", \"education\", \"balance\", \"housing\", \"duration\" and \"campaign\" describe the characteristics of these people. The effects of these features on loan approval can be explored, and a machine learning model can be trained to predict whether loan applications will be approved.</li>\n",
    "\n",
    "<li >Also, relationships between data can be examined. For example, it can be investigated whether there is a correlation between \"balance\" and \"duration\". This can help to understand if there is a relationship between a person's bank account balance and loan repayment period. </li>\n",
    "\n",
    "<li> As a result, various analyzes can be made on the data we have. Using machine learning techniques, the effect of features in the data on the approval of loan applications can be investigated and prediction models can be built. It can also gain different views on the relationships and features between data, and this information can help develop a loan application evaluation system. </li>\n",
    "</ul>\n",
    "\n",
    "<h3> Important explanation about the model and data: </h3>\n",
    "<ul>\n",
    "<li> The main purpose of this project is to compare the performance of different ML methods in classification and different techniques in handling imbalanced data. </li>\n",
    "<li> The data size is small having only <strong> 4500 samples and 8 features </strong> while suffering from <strong>skewness</strong>. <strong> So creating a model with good metrics (e.g. high precision, recall and accuracy) seems not possible for this data set. </strong> </li>\n",
    "</ul>\n",
    "\n",
    "<h3> Classification methods used in this project: </h3>\n",
    "<ul>    \n",
    "<li> XGboost Classifier </li>\n",
    "<li> Neural Networks </li>\n",
    "<li> Logisitic Regression </li>\n",
    "<li> Random Forest Classifier </li>\n",
    "<li> Support Vector Classifier </li>\n",
    "<li> Decision Tree Classifier </li>\n",
    "\n",
    "</ul> \n",
    "\n",
    "\n",
    "<h3> Methods for handling skewness used in this project: </h3>\n",
    "<ul>\n",
    "<li> Assigning class weights </li>\n",
    "<li> Ensembling Method (BalancedBaggingClassifier) </li>\n",
    "<li> Oversampling (SMOTENC) </li>\n",
    "<li> Undersampling (NearMiss & Random Undersampling) </li>\n",
    "</ul> \n",
    "\n",
    "<h3> Methods for outlier detection in this project: </h3>\n",
    "<ul>    \n",
    "<li> Isolation Forest </li>\n",
    "<li> Local Outlier Factor </li>\n",
    "</ul> \n"
   ]
  },
  {
   "cell_type": "code",
   "execution_count": null,
   "id": "82cf03ed",
   "metadata": {},
   "outputs": [],
   "source": [
    "# pip install -U imbalanced-learn"
   ]
  },
  {
   "cell_type": "code",
   "execution_count": 1,
   "id": "7be7cbb3",
   "metadata": {},
   "outputs": [],
   "source": [
    "# Imported Libraries\n",
    "\n",
    "import numpy as np # linear algebra\n",
    "import pandas as pd # data processing, CSV file I/O (e.g. pd.read_csv)\n",
    "import tensorflow as tf\n",
    "import matplotlib.pyplot as plt\n",
    "import seaborn as sns\n",
    "import matplotlib.patches as mpatches\n",
    "import time\n",
    "from keras import backend as K\n",
    "\n",
    "# Classifier Libraries\n",
    "from sklearn.linear_model import LogisticRegression\n",
    "from sklearn.svm import SVC\n",
    "from sklearn.neighbors import KNeighborsClassifier\n",
    "from sklearn.tree import DecisionTreeClassifier\n",
    "from sklearn.ensemble import RandomForestClassifier\n",
    "import xgboost as xgb\n",
    "import collections\n",
    "from keras import Sequential\n",
    "from keras import layers\n",
    "from keras.layers import BatchNormalization, Dropout, Dense\n",
    "from keras.optimizers import Adam\n",
    "\n",
    "\n",
    "# Other Libraries\n",
    "from sklearn.model_selection import train_test_split\n",
    "from sklearn.model_selection import GridSearchCV\n",
    "from sklearn.neighbors import LocalOutlierFactor\n",
    "from sklearn.ensemble import IsolationForest\n",
    "from sklearn.metrics import confusion_matrix, accuracy_score\n",
    "from sklearn.utils.class_weight import compute_class_weight\n",
    "from sklearn.preprocessing import StandardScaler\n",
    "from sklearn.metrics import make_scorer\n",
    "import sklearn.metrics as metrics\n",
    "from sklearn.preprocessing import LabelEncoder\n",
    "from sklearn.preprocessing import OneHotEncoder\n",
    "from sklearn.pipeline import make_pipeline\n",
    "from imblearn.pipeline import make_pipeline as imbalanced_make_pipeline\n",
    "from imblearn.over_sampling import SMOTENC\n",
    "from imblearn.under_sampling import NearMiss\n",
    "from imblearn.ensemble import BalancedBaggingClassifier\n",
    "from imblearn.metrics import classification_report_imbalanced\n",
    "from sklearn.metrics import precision_score, recall_score, f1_score, roc_auc_score, accuracy_score, classification_report\n",
    "from collections import Counter\n",
    "from sklearn.model_selection import KFold, StratifiedKFold\n",
    "import warnings\n",
    "warnings.filterwarnings(\"ignore\")"
   ]
  },
  {
   "cell_type": "code",
   "execution_count": 56,
   "id": "ab744809",
   "metadata": {},
   "outputs": [
    {
     "data": {
      "text/html": [
       "<div>\n",
       "<style scoped>\n",
       "    .dataframe tbody tr th:only-of-type {\n",
       "        vertical-align: middle;\n",
       "    }\n",
       "\n",
       "    .dataframe tbody tr th {\n",
       "        vertical-align: top;\n",
       "    }\n",
       "\n",
       "    .dataframe thead th {\n",
       "        text-align: right;\n",
       "    }\n",
       "</style>\n",
       "<table border=\"1\" class=\"dataframe\">\n",
       "  <thead>\n",
       "    <tr style=\"text-align: right;\">\n",
       "      <th></th>\n",
       "      <th>age</th>\n",
       "      <th>job</th>\n",
       "      <th>marital</th>\n",
       "      <th>education</th>\n",
       "      <th>balance</th>\n",
       "      <th>housing</th>\n",
       "      <th>duration</th>\n",
       "      <th>campaign</th>\n",
       "      <th>approval</th>\n",
       "    </tr>\n",
       "  </thead>\n",
       "  <tbody>\n",
       "    <tr>\n",
       "      <th>0</th>\n",
       "      <td>30.0</td>\n",
       "      <td>unemployed</td>\n",
       "      <td>married</td>\n",
       "      <td>primary</td>\n",
       "      <td>1787</td>\n",
       "      <td>no</td>\n",
       "      <td>79.0</td>\n",
       "      <td>1</td>\n",
       "      <td>no</td>\n",
       "    </tr>\n",
       "    <tr>\n",
       "      <th>1</th>\n",
       "      <td>33.0</td>\n",
       "      <td>services</td>\n",
       "      <td>married</td>\n",
       "      <td>secondary</td>\n",
       "      <td>4789</td>\n",
       "      <td>yes</td>\n",
       "      <td>220.0</td>\n",
       "      <td>1</td>\n",
       "      <td>no</td>\n",
       "    </tr>\n",
       "    <tr>\n",
       "      <th>2</th>\n",
       "      <td>35.0</td>\n",
       "      <td>management</td>\n",
       "      <td>single</td>\n",
       "      <td>tertiary</td>\n",
       "      <td>1350</td>\n",
       "      <td>yes</td>\n",
       "      <td>185.0</td>\n",
       "      <td>1</td>\n",
       "      <td>no</td>\n",
       "    </tr>\n",
       "    <tr>\n",
       "      <th>3</th>\n",
       "      <td>30.0</td>\n",
       "      <td>management</td>\n",
       "      <td>married</td>\n",
       "      <td>tertiary</td>\n",
       "      <td>1476</td>\n",
       "      <td>yes</td>\n",
       "      <td>199.0</td>\n",
       "      <td>4</td>\n",
       "      <td>no</td>\n",
       "    </tr>\n",
       "    <tr>\n",
       "      <th>4</th>\n",
       "      <td>59.0</td>\n",
       "      <td>blue-collar</td>\n",
       "      <td>married</td>\n",
       "      <td>secondary</td>\n",
       "      <td>0</td>\n",
       "      <td>yes</td>\n",
       "      <td>226.0</td>\n",
       "      <td>1</td>\n",
       "      <td>no</td>\n",
       "    </tr>\n",
       "  </tbody>\n",
       "</table>\n",
       "</div>"
      ],
      "text/plain": [
       "    age          job  marital  education  balance housing  duration  campaign  \\\n",
       "0  30.0   unemployed  married    primary     1787      no      79.0         1   \n",
       "1  33.0     services  married  secondary     4789     yes     220.0         1   \n",
       "2  35.0   management   single   tertiary     1350     yes     185.0         1   \n",
       "3  30.0   management  married   tertiary     1476     yes     199.0         4   \n",
       "4  59.0  blue-collar  married  secondary        0     yes     226.0         1   \n",
       "\n",
       "  approval  \n",
       "0       no  \n",
       "1       no  \n",
       "2       no  \n",
       "3       no  \n",
       "4       no  "
      ]
     },
     "execution_count": 56,
     "metadata": {},
     "output_type": "execute_result"
    }
   ],
   "source": [
    "# reading csv data as dataframe\n",
    "df = pd.read_csv('C:\\\\Users\\\\Afshin\\\\Pythonfiles\\\\Kaggle-competition\\\\Credit approval-imbalance data\\\\Loan_data.csv')\n",
    "df.head()"
   ]
  },
  {
   "cell_type": "code",
   "execution_count": 3,
   "id": "a96b5a90",
   "metadata": {},
   "outputs": [
    {
     "data": {
      "text/html": [
       "<div>\n",
       "<style scoped>\n",
       "    .dataframe tbody tr th:only-of-type {\n",
       "        vertical-align: middle;\n",
       "    }\n",
       "\n",
       "    .dataframe tbody tr th {\n",
       "        vertical-align: top;\n",
       "    }\n",
       "\n",
       "    .dataframe thead th {\n",
       "        text-align: right;\n",
       "    }\n",
       "</style>\n",
       "<table border=\"1\" class=\"dataframe\">\n",
       "  <thead>\n",
       "    <tr style=\"text-align: right;\">\n",
       "      <th></th>\n",
       "      <th>age</th>\n",
       "      <th>balance</th>\n",
       "      <th>duration</th>\n",
       "      <th>campaign</th>\n",
       "    </tr>\n",
       "  </thead>\n",
       "  <tbody>\n",
       "    <tr>\n",
       "      <th>count</th>\n",
       "      <td>4519.000000</td>\n",
       "      <td>4521.000000</td>\n",
       "      <td>4.519000e+03</td>\n",
       "      <td>4521.000000</td>\n",
       "    </tr>\n",
       "    <tr>\n",
       "      <th>mean</th>\n",
       "      <td>41.381279</td>\n",
       "      <td>1422.657819</td>\n",
       "      <td>5.983921e+03</td>\n",
       "      <td>2.793630</td>\n",
       "    </tr>\n",
       "    <tr>\n",
       "      <th>std</th>\n",
       "      <td>13.966475</td>\n",
       "      <td>3009.638142</td>\n",
       "      <td>3.570683e+05</td>\n",
       "      <td>3.109807</td>\n",
       "    </tr>\n",
       "    <tr>\n",
       "      <th>min</th>\n",
       "      <td>-38.000000</td>\n",
       "      <td>-3313.000000</td>\n",
       "      <td>-7.990000e+02</td>\n",
       "      <td>1.000000</td>\n",
       "    </tr>\n",
       "    <tr>\n",
       "      <th>25%</th>\n",
       "      <td>33.000000</td>\n",
       "      <td>69.000000</td>\n",
       "      <td>1.040000e+02</td>\n",
       "      <td>1.000000</td>\n",
       "    </tr>\n",
       "    <tr>\n",
       "      <th>50%</th>\n",
       "      <td>39.000000</td>\n",
       "      <td>444.000000</td>\n",
       "      <td>1.850000e+02</td>\n",
       "      <td>2.000000</td>\n",
       "    </tr>\n",
       "    <tr>\n",
       "      <th>75%</th>\n",
       "      <td>49.000000</td>\n",
       "      <td>1480.000000</td>\n",
       "      <td>3.295000e+02</td>\n",
       "      <td>3.000000</td>\n",
       "    </tr>\n",
       "    <tr>\n",
       "      <th>max</th>\n",
       "      <td>416.000000</td>\n",
       "      <td>71188.000000</td>\n",
       "      <td>2.395650e+07</td>\n",
       "      <td>50.000000</td>\n",
       "    </tr>\n",
       "  </tbody>\n",
       "</table>\n",
       "</div>"
      ],
      "text/plain": [
       "               age       balance      duration     campaign\n",
       "count  4519.000000   4521.000000  4.519000e+03  4521.000000\n",
       "mean     41.381279   1422.657819  5.983921e+03     2.793630\n",
       "std      13.966475   3009.638142  3.570683e+05     3.109807\n",
       "min     -38.000000  -3313.000000 -7.990000e+02     1.000000\n",
       "25%      33.000000     69.000000  1.040000e+02     1.000000\n",
       "50%      39.000000    444.000000  1.850000e+02     2.000000\n",
       "75%      49.000000   1480.000000  3.295000e+02     3.000000\n",
       "max     416.000000  71188.000000  2.395650e+07    50.000000"
      ]
     },
     "execution_count": 3,
     "metadata": {},
     "output_type": "execute_result"
    }
   ],
   "source": [
    "df.describe()"
   ]
  },
  {
   "cell_type": "code",
   "execution_count": 4,
   "id": "fe3b8142",
   "metadata": {},
   "outputs": [],
   "source": [
    "def data_stats(data):\n",
    "    \n",
    "    print(f'Number of samples : {data.shape[0]}')\n",
    "    print(f'Number of features : {data.shape[1] - 1}')\n",
    "    \n",
    "    cat_cols = [colname for colname in data.select_dtypes([\"object\", \"category\"])]\n",
    "    print(f'Name of categorical columns : {cat_cols}')\n",
    "    num_cols = [colname for colname in data.select_dtypes('number')]\n",
    "    print(f'Name of numerical columns : {num_cols}')      \n",
    "    card_dict = {k:data[k].nunique() for k in cat_cols}\n",
    "    print(f'Number of cardinality in each categirical columns : {card_dict}')      \n",
    "    nan_cols = data.columns[data.isna().any()].tolist()      \n",
    "    print(f'Name of columns with nan values : {nan_cols}')\n",
    "                   "
   ]
  },
  {
   "cell_type": "code",
   "execution_count": 5,
   "id": "e5bdfd6f",
   "metadata": {},
   "outputs": [
    {
     "name": "stdout",
     "output_type": "stream",
     "text": [
      "Number of samples : 4521\n",
      "Number of features : 8\n",
      "Name of categorical columns : ['job', 'marital', 'education', 'housing', 'approval']\n",
      "Name of numerical columns : ['age', 'balance', 'duration', 'campaign']\n",
      "Number of cardinality in each categirical columns : {'job': 12, 'marital': 3, 'education': 4, 'housing': 2, 'approval': 2}\n",
      "Name of columns with nan values : ['age', 'job', 'marital', 'education', 'housing', 'duration']\n"
     ]
    }
   ],
   "source": [
    "data_stats(df) "
   ]
  },
  {
   "cell_type": "code",
   "execution_count": 6,
   "id": "29cc2b95",
   "metadata": {},
   "outputs": [
    {
     "name": "stdout",
     "output_type": "stream",
     "text": [
      "Categories in job column : ['unemployed' 'services' 'management' 'blue-collar' 'self-employed'\n",
      " 'technician' 'entrepreneur' 'admin.' 'student' 'housemaid' 'retired'\n",
      " 'unknown' nan]\n",
      "Categories in marital column : ['married' 'single' 'divorced' nan]\n",
      "Categories in education column : ['primary' 'secondary' 'tertiary' 'unknown' nan]\n",
      "Categories in housing column : ['no' 'yes' nan]\n",
      "Categories in approval column : ['no' 'yes']\n"
     ]
    }
   ],
   "source": [
    "# names of categories in each categirical feature\n",
    "# list of categorical columns\n",
    "cat_cols = [colname for colname in df.select_dtypes([\"object\", \"category\"])]\n",
    "for colname in cat_cols:\n",
    "    print(f'Categories in {colname} column : {df[colname].unique()}')\n"
   ]
  },
  {
   "cell_type": "code",
   "execution_count": 7,
   "id": "d1b2c32d",
   "metadata": {},
   "outputs": [],
   "source": [
    "# index with nan values\n",
    "invalid_rows = [indx for indx, row in df.iterrows() if row.isnull().any()]\n",
    "df.dropna(inplace=True)"
   ]
  },
  {
   "cell_type": "code",
   "execution_count": 8,
   "id": "00593bc2",
   "metadata": {},
   "outputs": [
    {
     "name": "stdout",
     "output_type": "stream",
     "text": [
      "Approval rate: 11.53 % of the dataset\n",
      "No approval rate: 88.47 % of the dataset\n"
     ]
    }
   ],
   "source": [
    "# The classes seems skewed \n",
    "print('Approval rate:', round(df['approval'].value_counts()['yes']/len(df) * 100,2), '% of the dataset')\n",
    "print('No approval rate:', round(df['approval'].value_counts()['no']/len(df) * 100,2), '% of the dataset')"
   ]
  },
  {
   "cell_type": "code",
   "execution_count": 9,
   "id": "8ccab501",
   "metadata": {},
   "outputs": [
    {
     "data": {
      "text/plain": [
       "Text(0.5, 1.0, 'Approval rate distributions')"
      ]
     },
     "execution_count": 9,
     "metadata": {},
     "output_type": "execute_result"
    },
    {
     "data": {
      "image/png": "[encoded data removed]",
      "text/plain": [
       "<Figure size 432x288 with 1 Axes>"
      ]
     },
     "metadata": {
      "needs_background": "light"
     },
     "output_type": "display_data"
    }
   ],
   "source": [
    "# approval rate distribution \n",
    "sns.countplot('approval', data=df, palette=['#432371',\"#FAAE7B\"])\n",
    "plt.title('Approval rate distributions', fontsize=14)"
   ]
  },
  {
   "cell_type": "markdown",
   "id": "81769103",
   "metadata": {},
   "source": [
    "<h3> Box plots </h3>\n",
    "<p>\n",
    "</p>\n",
    "<li> It seems the data have too many outliers which is observable in the box plots. </li>"
   ]
  },
  {
   "cell_type": "code",
   "execution_count": 43,
   "id": "d1523c7d",
   "metadata": {},
   "outputs": [
    {
     "data": {
      "image/png": "[encoded data removed]",
      "text/plain": [
       "<Figure size 1152x864 with 4 Axes>"
      ]
     },
     "metadata": {
      "needs_background": "light"
     },
     "output_type": "display_data"
    }
   ],
   "source": [
    "cols = df.describe().columns.tolist()\n",
    "fig, axes = plt.subplots(ncols=2, nrows=2, figsize=(16, 12))\n",
    "plt.subplots_adjust(hspace=0.2)\n",
    "\n",
    "for i, ax in zip(range(10), axes.flat):\n",
    "    g = sns.boxplot(data=df, x='approval', y= cols[i], palette=['#432371',\"#FAAE7B\"], ax=ax)\n",
    "    ax.set_xticklabels(ax.get_xticklabels(), rotation = 30)\n",
    "plt.show() \n"
   ]
  },
  {
   "cell_type": "markdown",
   "id": "94a0f1f0",
   "metadata": {},
   "source": [
    "<h3> Numerical features distribution </h3>\n",
    "<p>\n",
    "</p>\n",
    "<li> Histograms below show the distribution of numerical features (age, balance, duration and campaign) \n",
    "versus approval condition. I limit each feature value in x axes to have a better visualization.</li> \n",
    "\n",
    "<li> Based on age dist plot, the highest approval and rejection rate apears arounf age 30. </li> \n",
    "<li> Based on balance dist plot, the lower the balance the higher rate for approval and rejection. </li>\n",
    "<li> Based on duration dist plot, the highest rejection rate occurs at duration 100 and followed by highest \n",
    "approval rate happening around 250. </li>\n"
   ]
  },
  {
   "cell_type": "code",
   "execution_count": 42,
   "id": "a293cdf7",
   "metadata": {},
   "outputs": [
    {
     "data": {
      "text/plain": [
       "(0.0, 40.0)"
      ]
     },
     "execution_count": 42,
     "metadata": {},
     "output_type": "execute_result"
    },
    {
     "data": {
      "image/png": "[encoded data removed]",
      "text/plain": [
       "<Figure size 1152x864 with 4 Axes>"
      ]
     },
     "metadata": {
      "needs_background": "light"
     },
     "output_type": "display_data"
    }
   ],
   "source": [
    "fig, axes = plt.subplots(ncols=2, nrows=2, figsize=(16, 12))\n",
    "plt.subplots_adjust(hspace=0.2)\n",
    "# I cut off duration less than 20,000 to have a better visualization\n",
    "df_dur = df[df['duration'] < 20000]\n",
    "\n",
    "sns.histplot(data=df, x=\"age\", bins=200 ,hue=\"approval\", palette=['#432371',\"#FAAE7B\"] , multiple=\"stack\", shrink=0.5, ax=axes[0,0])\n",
    "axes[0,0].set_xlim(0, 100)\n",
    "sns.histplot(data=df, x=\"balance\", bins=200 ,hue=\"approval\", palette=['#432371',\"#FAAE7B\"] , multiple=\"stack\", shrink=0.5, ax=axes[0,1])\n",
    "axes[0,1].set_xlim(0, 10000)\n",
    "sns.histplot(data=df_dur, x=\"duration\", bins=100 ,hue=\"approval\", palette=['#432371',\"#FAAE7B\"] , multiple=\"stack\", shrink=0.5, ax=axes[1,0])\n",
    "axes[1,0].set_xlim(0, 1000)\n",
    "sns.histplot(data=df, x=\"campaign\", bins=40 ,hue=\"approval\", palette=['#432371',\"#FAAE7B\"] , multiple=\"stack\", shrink=0.5, ax=axes[1,1])\n",
    "axes[1,1].set_xlim(0, 40)\n"
   ]
  },
  {
   "cell_type": "markdown",
   "id": "f1fa60ee",
   "metadata": {},
   "source": [
    "<h3> Categorical features distribution </h3>\n",
    "<p>\n",
    "</p>\n",
    "\n",
    "<li> The plotted histgrams gives an intuition about the approval rate based on the each feature and for each category within\n",
    "the feature. For instance, married persons have the higher rate of approval and rejection of the credit card, or for landlords who have housing, the rejection rate is higher than those who does not have housing while the approval rate is the opposite (to me, it does not make sense, but this is what data shows!). <l/i> \n",
    "    "
   ]
  },
  {
   "cell_type": "code",
   "execution_count": 14,
   "id": "3deff22b",
   "metadata": {},
   "outputs": [
    {
     "data": {
      "image/png": "[encoded data removed]",
      "text/plain": [
       "<Figure size 1152x864 with 4 Axes>"
      ]
     },
     "metadata": {
      "needs_background": "light"
     },
     "output_type": "display_data"
    }
   ],
   "source": [
    "fig, axes = plt.subplots(ncols=2, nrows=2, figsize=(16, 12))\n",
    "plt.subplots_adjust(hspace=0.3)\n",
    "\n",
    "for i, ax in zip(range(5), axes.flat):\n",
    "    g = sns.countplot(x=cat_cols[i],data=df, palette=['#432371',\"#FAAE7B\"],hue='approval', ax=ax)\n",
    "    ax.set_xticklabels(ax.get_xticklabels(), rotation = 30)\n",
    "plt.show()      \n"
   ]
  },
  {
   "cell_type": "markdown",
   "id": "67a31ef0",
   "metadata": {},
   "source": [
    "<h3> Correlation between variables </h3>\n",
    "\n",
    "<p>\n",
    "</p>\n",
    "\n",
    "**Note:** We have to make sure we use the balanced data in our correlation matrix or else our correlation matrix will be affected by the high imbalance between our classes. This occurs due to the class imbalance in the original dataframe. \n",
    "So,I first plot corrolation heatmap for imbalanced data, then try to replot it by balanced data to see if any difference will be noticeable in the correlation.\n",
    "<p>\n",
    "</p> \n",
    "\n",
    "<li>The heat map shows that the features are not very informative, and there is no strong correlation among features themselves and among features\n",
    "and target variable. There are some improvement observable in correlation after balancing the data, but the improvement does not\n",
    "seems promissing. So we can guess that ML mehtods will potentially not be able to achieve high qaulity results. But we have to consider that the correlation here shows only linear interaction between variables. </li>\n",
    "\n",
    "\n"
   ]
  },
  {
   "cell_type": "code",
   "execution_count": 509,
   "id": "66aefe7e",
   "metadata": {},
   "outputs": [],
   "source": [
    "def feat_corr(input_df):\n",
    "    corr = input_df.corr()\n",
    "    plt.figure(figsize=(15,12))\n",
    "    #plot heat map\n",
    "    g=sns.heatmap(corr,annot=True,cmap=\"RdYlGn\", vmin=-1, vmax=1)\n",
    "    plt.title('Feature Correlation')\n",
    "    \n",
    "    return plt.show()"
   ]
  },
  {
   "cell_type": "code",
   "execution_count": 510,
   "id": "5feef2cf",
   "metadata": {},
   "outputs": [],
   "source": [
    "# random undersampling\n",
    "def rnd_undersampling(input_df):\n",
    "\n",
    "    # shuffling dataframe\n",
    "    df_shuffled = input_df.sample(frac=1)\n",
    "\n",
    "    # random undersampling\n",
    "    dict_dist = Counter(input_df['approval'])\n",
    "    keyMax = max(dict_dist, key= lambda x: dict_dist[x])\n",
    "    keyMin = min(dict_dist, key= lambda x: dict_dist[x])\n",
    "    \n",
    "    approved_df = df_shuffled.loc[df_shuffled['approval'] == keyMax]\n",
    "    non_approved_df = df_shuffled.loc[df_shuffled['approval'] == keyMin][:dict_dist[keyMin]]\n",
    "\n",
    "    df_merged = pd.concat([approved_df, non_approved_df])\n",
    "\n",
    "    # Shuffle dataframe rows\n",
    "    balanced_df = df_merged.sample(frac=1, random_state=42)\n",
    "    \n",
    "    return balanced_df\n"
   ]
  },
  {
   "cell_type": "code",
   "execution_count": 678,
   "id": "8ee03468",
   "metadata": {},
   "outputs": [],
   "source": [
    "# Label encoding\n",
    "df_labelencoded = df.copy(deep = True)\n",
    "for col in cat_cols:\n",
    "    df_labelencoded[col] = LabelEncoder().fit_transform(df[col])"
   ]
  },
  {
   "cell_type": "code",
   "execution_count": 679,
   "id": "7c761a92",
   "metadata": {},
   "outputs": [
    {
     "data": {
      "text/plain": [
       "['job', 'marital', 'education', 'housing', 'approval']"
      ]
     },
     "execution_count": 679,
     "metadata": {},
     "output_type": "execute_result"
    }
   ],
   "source": [
    "cat_cols"
   ]
  },
  {
   "cell_type": "code",
   "execution_count": 680,
   "id": "a687f91b",
   "metadata": {},
   "outputs": [
    {
     "data": {
      "image/png": "[encoded data removed]",
      "text/plain": [
       "<Figure size 1080x864 with 2 Axes>"
      ]
     },
     "metadata": {
      "needs_background": "light"
     },
     "output_type": "display_data"
    }
   ],
   "source": [
    "feat_corr(df_labelencoded)"
   ]
  },
  {
   "cell_type": "code",
   "execution_count": 681,
   "id": "2c89708c",
   "metadata": {},
   "outputs": [
    {
     "data": {
      "image/png": "[encoded data removed]",
      "text/plain": [
       "<Figure size 1080x864 with 2 Axes>"
      ]
     },
     "metadata": {
      "needs_background": "light"
     },
     "output_type": "display_data"
    }
   ],
   "source": [
    "# feature correlation on balanced data\n",
    "rnd_undersampling(df_labelencoded)\n",
    "feat_corr(balanced_df)"
   ]
  },
  {
   "cell_type": "markdown",
   "id": "e90591ad",
   "metadata": {},
   "source": [
    "<h3> Outlier detection </h3>\n",
    "\n",
    "<p>\n",
    "</p>\n",
    "\n",
    "I used LOF(Local Outlier Factor) for outlier detection. The anomaly score of each sample is called the Local Outlier Factor. It measures the local deviation of the density of a given sample with respect to its neighbors. Anamolies are labeled as -1\n",
    "\n",
    "<p>\n",
    "</p> \n",
    "\n",
    "IsolationForest is also added as a comment, we can use this method for outlier detection as well.\n",
    "\n",
    "<p>\n",
    "</p> "
   ]
  },
  {
   "cell_type": "code",
   "execution_count": 682,
   "id": "2ebe2dd4",
   "metadata": {},
   "outputs": [],
   "source": [
    "def outlier_detection(df_input, method): \n",
    "\n",
    "    X = df_input.drop('approval' , axis = 1)\n",
    "    y= df_input[['approval']]\n",
    "    \n",
    "    if method == 'LocalOutlierFactor':\n",
    "        lof = LocalOutlierFactor(n_neighbors=20, contamination=0.01)\n",
    "        anomalies = lof.fit_predict(X)\n",
    "        X[\"anamoly\"] = anomalies\n",
    "        \n",
    "    elif method == 'IsolationForest':\n",
    "        clf = IsolationForest(n_estimators=50, random_state=42, contamination=0.01)\n",
    "        clf.fit(X)\n",
    "        anomalies = clf.predict(X)\n",
    "        X[\"anamoly\"] = anomalies\n",
    "    \n",
    "    else:\n",
    "        print('method is unknown')\n",
    "  \n",
    "    return X"
   ]
  },
  {
   "cell_type": "code",
   "execution_count": 683,
   "id": "d12e3d74",
   "metadata": {},
   "outputs": [
    {
     "data": {
      "image/png": "[encoded data removed]",
      "text/plain": [
       "<Figure size 864x360 with 2 Axes>"
      ]
     },
     "metadata": {
      "needs_background": "light"
     },
     "output_type": "display_data"
    },
    {
     "data": {
      "image/png": "[encoded data removed]",
      "text/plain": [
       "<Figure size 864x360 with 1 Axes>"
      ]
     },
     "metadata": {
      "needs_background": "light"
     },
     "output_type": "display_data"
    }
   ],
   "source": [
    "df_anamoly = outlier_detection(df_labelencoded,  method = 'LocalOutlierFactor')\n",
    "\n",
    "f, axes = plt.subplots(nrows=1, ncols=2, figsize=(12,5))\n",
    "gg= sns.scatterplot(x='age', y='balance', hue='anamoly', data=df_anamoly, ax=axes[0]).set(title='age vs balance')\n",
    "gg= sns.scatterplot(x='duration', y='balance', hue='anamoly', data=df_anamoly, ax=axes[1]).set(title='duration vs balance')\n",
    "\n",
    "plt.show()\n",
    "\n",
    "f, axes = plt.subplots(nrows=1, ncols=1, figsize=(12,5))\n",
    "g= sns.scatterplot(x='duration', y='balance', hue='anamoly', data=df_anamoly)\n",
    "g.set_xlim(0, 2000)\n",
    "g.set_ylim(0, 30000)\n",
    "g.set(title='age vs balance (zoomed)')\n",
    "\n",
    "plt.show()\n",
    "    "
   ]
  },
  {
   "cell_type": "markdown",
   "id": "e9725df4",
   "metadata": {},
   "source": [
    "<h3> Removing outliers from dataframe </h3>"
   ]
  },
  {
   "cell_type": "code",
   "execution_count": 684,
   "id": "84c4bd1d",
   "metadata": {},
   "outputs": [],
   "source": [
    "indx =  df_anamoly.index[df_anamoly['anamoly'] == -1]\n",
    "df_labelencoded = df_labelencoded.drop(index=indx)"
   ]
  },
  {
   "cell_type": "markdown",
   "id": "2960fec9",
   "metadata": {},
   "source": [
    "<h3> Classification on imbalanced data </h3>\n",
    "\n",
    "<p>\n",
    "</p>\n",
    "As a promissing method, XGBoost is used to classify the imbalanced data. One time it is used without giving class weights \n",
    "and the other time it is used with class weights. \n",
    "\n",
    "<p>\n",
    "</p> \n",
    "\n"
   ]
  },
  {
   "cell_type": "code",
   "execution_count": 914,
   "id": "5f543d31",
   "metadata": {},
   "outputs": [],
   "source": [
    "X_imbalance = df_labelencoded.drop('approval' , axis = 1)\n",
    "y_imbalance = df_labelencoded['approval']"
   ]
  },
  {
   "cell_type": "code",
   "execution_count": 915,
   "id": "3ad67035",
   "metadata": {},
   "outputs": [],
   "source": [
    "X_train, X_test, y_train, y_test = train_test_split(X_imbalance, y_imbalance, test_size = 0.2, random_state = 42)"
   ]
  },
  {
   "cell_type": "code",
   "execution_count": 916,
   "id": "a23efe08",
   "metadata": {},
   "outputs": [],
   "source": [
    "# sc= StandardScaler()\n",
    "# X_train = sc.fit_transform(X_train)\n",
    "# X_test = sc.transform(X_test)"
   ]
  },
  {
   "cell_type": "code",
   "execution_count": 917,
   "id": "8ad694af",
   "metadata": {},
   "outputs": [
    {
     "data": {
      "text/plain": [
       "Counter({0: 3948, 1: 508})"
      ]
     },
     "execution_count": 917,
     "metadata": {},
     "output_type": "execute_result"
    }
   ],
   "source": [
    "Counter(y_imbalance)"
   ]
  },
  {
   "cell_type": "code",
   "execution_count": 918,
   "id": "f613a39c",
   "metadata": {},
   "outputs": [
    {
     "data": {
      "text/html": [
       "<style>#sk-container-id-41 {color: black;background-color: white;}#sk-container-id-41 pre{padding: 0;}#sk-container-id-41 div.sk-toggleable {background-color: white;}#sk-container-id-41 label.sk-toggleable__label {cursor: pointer;display: block;width: 100%;margin-bottom: 0;padding: 0.3em;box-sizing: border-box;text-align: center;}#sk-container-id-41 label.sk-toggleable__label-arrow:before {content: \"▸\";float: left;margin-right: 0.25em;color: #696969;}#sk-container-id-41 label.sk-toggleable__label-arrow:hover:before {color: black;}#sk-container-id-41 div.sk-estimator:hover label.sk-toggleable__label-arrow:before {color: black;}#sk-container-id-41 div.sk-toggleable__content {max-height: 0;max-width: 0;overflow: hidden;text-align: left;background-color: #f0f8ff;}#sk-container-id-41 div.sk-toggleable__content pre {margin: 0.2em;color: black;border-radius: 0.25em;background-color: #f0f8ff;}#sk-container-id-41 input.sk-toggleable__control:checked~div.sk-toggleable__content {max-height: 200px;max-width: 100%;overflow: auto;}#sk-container-id-41 input.sk-toggleable__control:checked~label.sk-toggleable__label-arrow:before {content: \"▾\";}#sk-container-id-41 div.sk-estimator input.sk-toggleable__control:checked~label.sk-toggleable__label {background-color: #d4ebff;}#sk-container-id-41 div.sk-label input.sk-toggleable__control:checked~label.sk-toggleable__label {background-color: #d4ebff;}#sk-container-id-41 input.sk-hidden--visually {border: 0;clip: rect(1px 1px 1px 1px);clip: rect(1px, 1px, 1px, 1px);height: 1px;margin: -1px;overflow: hidden;padding: 0;position: absolute;width: 1px;}#sk-container-id-41 div.sk-estimator {font-family: monospace;background-color: #f0f8ff;border: 1px dotted black;border-radius: 0.25em;box-sizing: border-box;margin-bottom: 0.5em;}#sk-container-id-41 div.sk-estimator:hover {background-color: #d4ebff;}#sk-container-id-41 div.sk-parallel-item::after {content: \"\";width: 100%;border-bottom: 1px solid gray;flex-grow: 1;}#sk-container-id-41 div.sk-label:hover label.sk-toggleable__label {background-color: #d4ebff;}#sk-container-id-41 div.sk-serial::before {content: \"\";position: absolute;border-left: 1px solid gray;box-sizing: border-box;top: 0;bottom: 0;left: 50%;z-index: 0;}#sk-container-id-41 div.sk-serial {display: flex;flex-direction: column;align-items: center;background-color: white;padding-right: 0.2em;padding-left: 0.2em;position: relative;}#sk-container-id-41 div.sk-item {position: relative;z-index: 1;}#sk-container-id-41 div.sk-parallel {display: flex;align-items: stretch;justify-content: center;background-color: white;position: relative;}#sk-container-id-41 div.sk-item::before, #sk-container-id-41 div.sk-parallel-item::before {content: \"\";position: absolute;border-left: 1px solid gray;box-sizing: border-box;top: 0;bottom: 0;left: 50%;z-index: -1;}#sk-container-id-41 div.sk-parallel-item {display: flex;flex-direction: column;z-index: 1;position: relative;background-color: white;}#sk-container-id-41 div.sk-parallel-item:first-child::after {align-self: flex-end;width: 50%;}#sk-container-id-41 div.sk-parallel-item:last-child::after {align-self: flex-start;width: 50%;}#sk-container-id-41 div.sk-parallel-item:only-child::after {width: 0;}#sk-container-id-41 div.sk-dashed-wrapped {border: 1px dashed gray;margin: 0 0.4em 0.5em 0.4em;box-sizing: border-box;padding-bottom: 0.4em;background-color: white;}#sk-container-id-41 div.sk-label label {font-family: monospace;font-weight: bold;display: inline-block;line-height: 1.2em;}#sk-container-id-41 div.sk-label-container {text-align: center;}#sk-container-id-41 div.sk-container {/* jupyter's `normalize.less` sets `[hidden] { display: none; }` but bootstrap.min.css set `[hidden] { display: none !important; }` so we also need the `!important` here to be able to override the default hidden behavior on the sphinx rendered scikit-learn.org. See: https://github.com/scikit-learn/scikit-learn/issues/21755 */display: inline-block !important;position: relative;}#sk-container-id-41 div.sk-text-repr-fallback {display: none;}</style><div id=\"sk-container-id-41\" class=\"sk-top-container\"><div class=\"sk-text-repr-fallback\"><pre>XGBClassifier(base_score=0.5, booster=&#x27;gbtree&#x27;, colsample_bylevel=1,\n",
       "              colsample_bynode=1, colsample_bytree=1, enable_categorical=False,\n",
       "              eval_metric=&#x27;logloss&#x27;, gamma=0, gpu_id=-1, importance_type=None,\n",
       "              interaction_constraints=&#x27;&#x27;, learning_rate=0.300000012,\n",
       "              max_delta_step=0, max_depth=6, min_child_weight=1, missing=nan,\n",
       "              monotone_constraints=&#x27;()&#x27;, n_estimators=100, n_jobs=8,\n",
       "              num_parallel_tree=1, predictor=&#x27;auto&#x27;, random_state=0,\n",
       "              reg_alpha=0, reg_lambda=1, scale_pos_weight=1, subsample=1,\n",
       "              tree_method=&#x27;exact&#x27;, validate_parameters=1, verbosity=None)</pre><b>In a Jupyter environment, please rerun this cell to show the HTML representation or trust the notebook. <br />On GitHub, the HTML representation is unable to render, please try loading this page with nbviewer.org.</b></div><div class=\"sk-container\" hidden><div class=\"sk-item\"><div class=\"sk-estimator sk-toggleable\"><input class=\"sk-toggleable__control sk-hidden--visually\" id=\"sk-estimator-id-41\" type=\"checkbox\" checked><label for=\"sk-estimator-id-41\" class=\"sk-toggleable__label sk-toggleable__label-arrow\">XGBClassifier</label><div class=\"sk-toggleable__content\"><pre>XGBClassifier(base_score=0.5, booster=&#x27;gbtree&#x27;, colsample_bylevel=1,\n",
       "              colsample_bynode=1, colsample_bytree=1, enable_categorical=False,\n",
       "              eval_metric=&#x27;logloss&#x27;, gamma=0, gpu_id=-1, importance_type=None,\n",
       "              interaction_constraints=&#x27;&#x27;, learning_rate=0.300000012,\n",
       "              max_delta_step=0, max_depth=6, min_child_weight=1, missing=nan,\n",
       "              monotone_constraints=&#x27;()&#x27;, n_estimators=100, n_jobs=8,\n",
       "              num_parallel_tree=1, predictor=&#x27;auto&#x27;, random_state=0,\n",
       "              reg_alpha=0, reg_lambda=1, scale_pos_weight=1, subsample=1,\n",
       "              tree_method=&#x27;exact&#x27;, validate_parameters=1, verbosity=None)</pre></div></div></div></div></div>"
      ],
      "text/plain": [
       "XGBClassifier(base_score=0.5, booster='gbtree', colsample_bylevel=1,\n",
       "              colsample_bynode=1, colsample_bytree=1, enable_categorical=False,\n",
       "              eval_metric='logloss', gamma=0, gpu_id=-1, importance_type=None,\n",
       "              interaction_constraints='', learning_rate=0.300000012,\n",
       "              max_delta_step=0, max_depth=6, min_child_weight=1, missing=nan,\n",
       "              monotone_constraints='()', n_estimators=100, n_jobs=8,\n",
       "              num_parallel_tree=1, predictor='auto', random_state=0,\n",
       "              reg_alpha=0, reg_lambda=1, scale_pos_weight=1, subsample=1,\n",
       "              tree_method='exact', validate_parameters=1, verbosity=None)"
      ]
     },
     "execution_count": 918,
     "metadata": {},
     "output_type": "execute_result"
    }
   ],
   "source": [
    "model =  xgb.XGBClassifier(eval_metric  = \"logloss\")\n",
    "model.fit(X_train,y_train)"
   ]
  },
  {
   "cell_type": "code",
   "execution_count": 919,
   "id": "3009b188",
   "metadata": {},
   "outputs": [],
   "source": [
    "y_pred = model.predict(X_test)"
   ]
  },
  {
   "cell_type": "code",
   "execution_count": 920,
   "id": "54a9443e",
   "metadata": {},
   "outputs": [
    {
     "name": "stdout",
     "output_type": "stream",
     "text": [
      "Test accuracy with XGBClassifier  : 0.878\n",
      "Test precision with XGBClassifier : 0.418\n",
      "Test recall with XGBClassifier    : 0.23\n"
     ]
    }
   ],
   "source": [
    "accuracy  = metrics.accuracy_score(y_test, y_pred)\n",
    "precision  = metrics.precision_score(y_test, y_pred)\n",
    "recall  = metrics.recall_score(y_test, y_pred)\n",
    "print(f'Test accuracy with XGBClassifier  : {round(accuracy,3)}')\n",
    "print(f'Test precision with XGBClassifier : {round(precision,3)}')\n",
    "print(f'Test recall with XGBClassifier    : {round(recall,3)}')"
   ]
  },
  {
   "cell_type": "code",
   "execution_count": 921,
   "id": "57d80000",
   "metadata": {},
   "outputs": [
    {
     "data": {
      "text/html": [
       "<style>#sk-container-id-42 {color: black;background-color: white;}#sk-container-id-42 pre{padding: 0;}#sk-container-id-42 div.sk-toggleable {background-color: white;}#sk-container-id-42 label.sk-toggleable__label {cursor: pointer;display: block;width: 100%;margin-bottom: 0;padding: 0.3em;box-sizing: border-box;text-align: center;}#sk-container-id-42 label.sk-toggleable__label-arrow:before {content: \"▸\";float: left;margin-right: 0.25em;color: #696969;}#sk-container-id-42 label.sk-toggleable__label-arrow:hover:before {color: black;}#sk-container-id-42 div.sk-estimator:hover label.sk-toggleable__label-arrow:before {color: black;}#sk-container-id-42 div.sk-toggleable__content {max-height: 0;max-width: 0;overflow: hidden;text-align: left;background-color: #f0f8ff;}#sk-container-id-42 div.sk-toggleable__content pre {margin: 0.2em;color: black;border-radius: 0.25em;background-color: #f0f8ff;}#sk-container-id-42 input.sk-toggleable__control:checked~div.sk-toggleable__content {max-height: 200px;max-width: 100%;overflow: auto;}#sk-container-id-42 input.sk-toggleable__control:checked~label.sk-toggleable__label-arrow:before {content: \"▾\";}#sk-container-id-42 div.sk-estimator input.sk-toggleable__control:checked~label.sk-toggleable__label {background-color: #d4ebff;}#sk-container-id-42 div.sk-label input.sk-toggleable__control:checked~label.sk-toggleable__label {background-color: #d4ebff;}#sk-container-id-42 input.sk-hidden--visually {border: 0;clip: rect(1px 1px 1px 1px);clip: rect(1px, 1px, 1px, 1px);height: 1px;margin: -1px;overflow: hidden;padding: 0;position: absolute;width: 1px;}#sk-container-id-42 div.sk-estimator {font-family: monospace;background-color: #f0f8ff;border: 1px dotted black;border-radius: 0.25em;box-sizing: border-box;margin-bottom: 0.5em;}#sk-container-id-42 div.sk-estimator:hover {background-color: #d4ebff;}#sk-container-id-42 div.sk-parallel-item::after {content: \"\";width: 100%;border-bottom: 1px solid gray;flex-grow: 1;}#sk-container-id-42 div.sk-label:hover label.sk-toggleable__label {background-color: #d4ebff;}#sk-container-id-42 div.sk-serial::before {content: \"\";position: absolute;border-left: 1px solid gray;box-sizing: border-box;top: 0;bottom: 0;left: 50%;z-index: 0;}#sk-container-id-42 div.sk-serial {display: flex;flex-direction: column;align-items: center;background-color: white;padding-right: 0.2em;padding-left: 0.2em;position: relative;}#sk-container-id-42 div.sk-item {position: relative;z-index: 1;}#sk-container-id-42 div.sk-parallel {display: flex;align-items: stretch;justify-content: center;background-color: white;position: relative;}#sk-container-id-42 div.sk-item::before, #sk-container-id-42 div.sk-parallel-item::before {content: \"\";position: absolute;border-left: 1px solid gray;box-sizing: border-box;top: 0;bottom: 0;left: 50%;z-index: -1;}#sk-container-id-42 div.sk-parallel-item {display: flex;flex-direction: column;z-index: 1;position: relative;background-color: white;}#sk-container-id-42 div.sk-parallel-item:first-child::after {align-self: flex-end;width: 50%;}#sk-container-id-42 div.sk-parallel-item:last-child::after {align-self: flex-start;width: 50%;}#sk-container-id-42 div.sk-parallel-item:only-child::after {width: 0;}#sk-container-id-42 div.sk-dashed-wrapped {border: 1px dashed gray;margin: 0 0.4em 0.5em 0.4em;box-sizing: border-box;padding-bottom: 0.4em;background-color: white;}#sk-container-id-42 div.sk-label label {font-family: monospace;font-weight: bold;display: inline-block;line-height: 1.2em;}#sk-container-id-42 div.sk-label-container {text-align: center;}#sk-container-id-42 div.sk-container {/* jupyter's `normalize.less` sets `[hidden] { display: none; }` but bootstrap.min.css set `[hidden] { display: none !important; }` so we also need the `!important` here to be able to override the default hidden behavior on the sphinx rendered scikit-learn.org. See: https://github.com/scikit-learn/scikit-learn/issues/21755 */display: inline-block !important;position: relative;}#sk-container-id-42 div.sk-text-repr-fallback {display: none;}</style><div id=\"sk-container-id-42\" class=\"sk-top-container\"><div class=\"sk-text-repr-fallback\"><pre>XGBClassifier(base_score=0.5, booster=&#x27;gbtree&#x27;, colsample_bylevel=1,\n",
       "              colsample_bynode=1, colsample_bytree=1, enable_categorical=False,\n",
       "              eval_metric=&#x27;logloss&#x27;, gamma=0, gpu_id=-1, importance_type=None,\n",
       "              interaction_constraints=&#x27;&#x27;, learning_rate=0.300000012,\n",
       "              max_delta_step=0, max_depth=6, min_child_weight=1, missing=nan,\n",
       "              monotone_constraints=&#x27;()&#x27;, n_estimators=100, n_jobs=8,\n",
       "              num_parallel_tree=1, predictor=&#x27;auto&#x27;, random_state=0,\n",
       "              reg_alpha=0, reg_lambda=1, scale_pos_weight=7.735294117647059,\n",
       "              subsample=1, tree_method=&#x27;exact&#x27;, validate_parameters=1,\n",
       "              verbosity=None)</pre><b>In a Jupyter environment, please rerun this cell to show the HTML representation or trust the notebook. <br />On GitHub, the HTML representation is unable to render, please try loading this page with nbviewer.org.</b></div><div class=\"sk-container\" hidden><div class=\"sk-item\"><div class=\"sk-estimator sk-toggleable\"><input class=\"sk-toggleable__control sk-hidden--visually\" id=\"sk-estimator-id-42\" type=\"checkbox\" checked><label for=\"sk-estimator-id-42\" class=\"sk-toggleable__label sk-toggleable__label-arrow\">XGBClassifier</label><div class=\"sk-toggleable__content\"><pre>XGBClassifier(base_score=0.5, booster=&#x27;gbtree&#x27;, colsample_bylevel=1,\n",
       "              colsample_bynode=1, colsample_bytree=1, enable_categorical=False,\n",
       "              eval_metric=&#x27;logloss&#x27;, gamma=0, gpu_id=-1, importance_type=None,\n",
       "              interaction_constraints=&#x27;&#x27;, learning_rate=0.300000012,\n",
       "              max_delta_step=0, max_depth=6, min_child_weight=1, missing=nan,\n",
       "              monotone_constraints=&#x27;()&#x27;, n_estimators=100, n_jobs=8,\n",
       "              num_parallel_tree=1, predictor=&#x27;auto&#x27;, random_state=0,\n",
       "              reg_alpha=0, reg_lambda=1, scale_pos_weight=7.735294117647059,\n",
       "              subsample=1, tree_method=&#x27;exact&#x27;, validate_parameters=1,\n",
       "              verbosity=None)</pre></div></div></div></div></div>"
      ],
      "text/plain": [
       "XGBClassifier(base_score=0.5, booster='gbtree', colsample_bylevel=1,\n",
       "              colsample_bynode=1, colsample_bytree=1, enable_categorical=False,\n",
       "              eval_metric='logloss', gamma=0, gpu_id=-1, importance_type=None,\n",
       "              interaction_constraints='', learning_rate=0.300000012,\n",
       "              max_delta_step=0, max_depth=6, min_child_weight=1, missing=nan,\n",
       "              monotone_constraints='()', n_estimators=100, n_jobs=8,\n",
       "              num_parallel_tree=1, predictor='auto', random_state=0,\n",
       "              reg_alpha=0, reg_lambda=1, scale_pos_weight=7.735294117647059,\n",
       "              subsample=1, tree_method='exact', validate_parameters=1,\n",
       "              verbosity=None)"
      ]
     },
     "execution_count": 921,
     "metadata": {},
     "output_type": "execute_result"
    }
   ],
   "source": [
    "scale_pos_weight= Counter(y_train)[0]/Counter(y_train)[1]\n",
    "model_weighted = xgb.XGBClassifier(scale_pos_weight=scale_pos_weight, eval_metric  = \"logloss\")\n",
    "model_weighted.fit(X_train,y_train)"
   ]
  },
  {
   "cell_type": "code",
   "execution_count": 694,
   "id": "79987dd3",
   "metadata": {},
   "outputs": [],
   "source": [
    "y_pred_weighted = model_weighted.predict(X_test)"
   ]
  },
  {
   "cell_type": "code",
   "execution_count": 695,
   "id": "41bd4190",
   "metadata": {},
   "outputs": [
    {
     "name": "stdout",
     "output_type": "stream",
     "text": [
      "Test accuracy with XGBClassifier with class weights  : 0.858\n",
      "Test precision with XGBClassifier with class weights : 0.385\n",
      "Test recall with XGBClassifier with class weights    : 0.45\n"
     ]
    },
    {
     "data": {
      "text/html": [
       "<div>\n",
       "<style scoped>\n",
       "    .dataframe tbody tr th:only-of-type {\n",
       "        vertical-align: middle;\n",
       "    }\n",
       "\n",
       "    .dataframe tbody tr th {\n",
       "        vertical-align: top;\n",
       "    }\n",
       "\n",
       "    .dataframe thead th {\n",
       "        text-align: right;\n",
       "    }\n",
       "</style>\n",
       "<table border=\"1\" class=\"dataframe\">\n",
       "  <thead>\n",
       "    <tr style=\"text-align: center;\">\n",
       "      <th></th>\n",
       "      <th>Predicted: 0</th>\n",
       "      <th>Predicted: 1</th>\n",
       "    </tr>\n",
       "  </thead>\n",
       "  <tbody>\n",
       "    <tr>\n",
       "      <th>Actual:0</th>\n",
       "      <td>720</td>\n",
       "      <td>72</td>\n",
       "    </tr>\n",
       "    <tr>\n",
       "      <th>Actual:1</th>\n",
       "      <td>55</td>\n",
       "      <td>45</td>\n",
       "    </tr>\n",
       "  </tbody>\n",
       "</table>\n",
       "</div>"
      ],
      "text/plain": [
       "          Predicted: 0  Predicted: 1\n",
       "Actual:0       720           72     \n",
       "Actual:1        55           45     "
      ]
     },
     "execution_count": 695,
     "metadata": {},
     "output_type": "execute_result"
    }
   ],
   "source": [
    "cm = confusion_matrix(y_test, y_pred_weighted)\n",
    "conf_matrix = pd.DataFrame(data = cm, \n",
    "                           columns = ['Predicted: 0', 'Predicted: 1'], \n",
    "                           index = ['Actual:0', 'Actual:1'])\n",
    "\n",
    "accuracy  = metrics.accuracy_score(y_test, y_pred_weighted)\n",
    "precision  = metrics.precision_score(y_test, y_pred_weighted)\n",
    "recall  = metrics.recall_score(y_test, y_pred_weighted)\n",
    "print(f'Test accuracy with XGBClassifier with class weights  : {round(accuracy,3)}')\n",
    "print(f'Test precision with XGBClassifier with class weights : {round(precision,3)}')\n",
    "print(f'Test recall with XGBClassifier with class weights    : {round(recall,3)}')\n",
    "conf_matrix"
   ]
  },
  {
   "cell_type": "code",
   "execution_count": 922,
   "id": "c5bc9b93",
   "metadata": {},
   "outputs": [
    {
     "data": {
      "text/plain": [
       "<AxesSubplot:>"
      ]
     },
     "execution_count": 922,
     "metadata": {},
     "output_type": "execute_result"
    },
    {
     "data": {
      "image/png": "[encoded data removed]",
      "text/plain": [
       "<Figure size 432x288 with 1 Axes>"
      ]
     },
     "metadata": {
      "needs_background": "light"
     },
     "output_type": "display_data"
    }
   ],
   "source": [
    "# feature importance\n",
    "feat_importances = pd.Series(model_weighted.feature_importances_, index=X_train.columns)\n",
    "feat_importances.nlargest(10).plot.barh()"
   ]
  },
  {
   "cell_type": "markdown",
   "id": "dd4e1f96",
   "metadata": {},
   "source": [
    "<h3> Ensembling Method </h3>\n",
    "\n",
    "<p>\n",
    "</p>\n",
    "One of the ways to successfully generalize a model is building n models that use all the samples of the rare class and n-differing samples of the abundant class. For instance,  you want to ensemble 10 models, you would keep e.g. the 1 case of the rare class and randomly sample 100 cases of the abundant class. Then you just split the 100 cases in 100 buckets and train 100 different models.\n",
    "<p>\n",
    "</p>\n",
    "\n",
    "<p>\n",
    "</p>\n",
    "\n",
    "**Note:** BalancedBaggingClassifier from imblearn is used for ensembling method.\n",
    "<p>\n",
    "</p>\n",
    "\n"
   ]
  },
  {
   "cell_type": "code",
   "execution_count": 697,
   "id": "667b7ba9",
   "metadata": {},
   "outputs": [
    {
     "name": "stdout",
     "output_type": "stream",
     "text": [
      "Test accuracy with XGBClassifier with ensembling  : 0.807\n",
      "Test precision with XGBClassifier with ensembling : 0.336\n",
      "Test recall with XGBClassifier with ensembling    : 0.74\n"
     ]
    }
   ],
   "source": [
    "#Create an object of the classifier.\n",
    "bbc = BalancedBaggingClassifier(base_estimator= xgb.XGBClassifier(eval_metric  = \"logloss\"),\n",
    "                                sampling_strategy='auto',\n",
    "                                replacement=False,\n",
    "                                random_state=0)\n",
    "\n",
    "#Train the classifier.\n",
    "bbc.fit(X_train, y_train)\n",
    "y_pred_bbc = bbc.predict(X_test)\n",
    "accuracy  = metrics.accuracy_score(y_test, y_pred_bbc)\n",
    "precision  = metrics.precision_score(y_test, y_pred_bbc)\n",
    "recall  = metrics.recall_score(y_test, y_pred_bbc)\n",
    "print(f'Test accuracy with XGBClassifier with ensembling  : {round(accuracy,3)}')\n",
    "print(f'Test precision with XGBClassifier with ensembling : {round(precision,3)}')\n",
    "print(f'Test recall with XGBClassifier with ensembling    : {round(recall,3)}')"
   ]
  },
  {
   "cell_type": "markdown",
   "id": "ee288655",
   "metadata": {},
   "source": [
    "<h3> UnderSampling (NearMiss) and OvreSampling (SmoteNC) </h3>\n",
    "\n",
    "<ul>    \n",
    "<li> Unsersampling is to reduce the size of abundant class.\n",
    "By keeping all samples from the rare class and selecting an \n",
    "equal number of samples in the abundant class (either randomly or method-based), a balanced new dataset \n",
    "can be retrieved for further modelling. </li>\n",
    "\n",
    "<strong>Note:</strong> NearMiss and random undersampling is used for this project.\n",
    "</p>\n",
    "  \n",
    "<li> On the contrary, oversampling is used when the quantity of data is insufficient. \n",
    "It tries to balance dataset by increasing the size of rare samples. Rather than getting \n",
    "rid of abundant samples, new rare samples are generated by using e.g. repetition, bootstrapping \n",
    "or SMOTE (Synthetic Minority Over-Sampling Technique) </li>\n",
    "\n",
    "https://arxiv.org/abs/1106.1813 \n",
    "\n",
    "<strong>Note:</strong> Since the features in the dataset are combination of categorical and numerical variables SmoteNC is used for oversampling this project.\n",
    "\n",
    "    "
   ]
  },
  {
   "cell_type": "code",
   "execution_count": 698,
   "id": "06a712e8",
   "metadata": {},
   "outputs": [],
   "source": [
    "# train, test split\n",
    "X_train_sm, X_test_sm, y_train_sm, y_test_sm = train_test_split(X_imbalance, y_imbalance, test_size = 0.2, random_state = 42)"
   ]
  },
  {
   "cell_type": "code",
   "execution_count": 699,
   "id": "d7e25811",
   "metadata": {},
   "outputs": [],
   "source": [
    "X_train_sm = X_train_sm.reset_index(drop=True)\n",
    "y_train_sm = y_train_sm.reset_index(drop=True)"
   ]
  },
  {
   "cell_type": "code",
   "execution_count": 700,
   "id": "0e9375ea",
   "metadata": {},
   "outputs": [],
   "source": [
    "#classifiers names and models\n",
    "classifiers = {\n",
    "    \"Logisitic Regression\": LogisticRegression(),\n",
    "    \"RandomForest Classifier\" : RandomForestClassifier(),\n",
    "    \"KNearest Classifier\": KNeighborsClassifier(),\n",
    "    \"Support Vector Classifier\": SVC(),\n",
    "    \"DecisionTree Classifier\": DecisionTreeClassifier(),\n",
    "    \"XGBoost Classifier\" :  xgb.XGBClassifier(eval_metric  = \"logloss\")    \n",
    "}"
   ]
  },
  {
   "cell_type": "markdown",
   "id": "ac538e47",
   "metadata": {},
   "source": [
    "<p>\n",
    "</p>\n",
    "\n",
    "**Note:** We need to pass the index of categorical columns for the SmotheNC method, so we used label encoding instead of one-hot encoding for categorical columns.\n",
    "\n",
    "<p>\n",
    "</p> \n",
    "\n"
   ]
  },
  {
   "cell_type": "code",
   "execution_count": 701,
   "id": "db8c47b6",
   "metadata": {},
   "outputs": [
    {
     "data": {
      "text/plain": [
       "[1, 2, 3, 5]"
      ]
     },
     "execution_count": 701,
     "metadata": {},
     "output_type": "execute_result"
    }
   ],
   "source": [
    "if 'approval' in cat_cols : cat_cols.remove('approval') \n",
    "cat_col_indx = [X_train_sm.columns.get_loc(cat_col) for cat_col in cat_cols]\n",
    "cat_col_indx"
   ]
  },
  {
   "cell_type": "code",
   "execution_count": 702,
   "id": "caaf5212",
   "metadata": {},
   "outputs": [],
   "source": [
    "df_metric = pd.DataFrame(columns=['classifiers', 'accuracy', 'precision', 'recall', 'f1_score', 'auc'])\n",
    "df_metric[\"classifiers\"] = list(classifiers.keys())"
   ]
  },
  {
   "cell_type": "code",
   "execution_count": 703,
   "id": "9166a625",
   "metadata": {},
   "outputs": [],
   "source": [
    "# Stratified kfold cross-validation splits\n",
    "sKfold = StratifiedKFold(n_splits=5, random_state=None, shuffle=False)"
   ]
  },
  {
   "cell_type": "code",
   "execution_count": 704,
   "id": "fe8e4674",
   "metadata": {},
   "outputs": [],
   "source": [
    "def pipeline_model(method, classifiers,X_train, y_train, cat_col_indx):\n",
    "\n",
    "    row = 0\n",
    "    for classifier_name, classifier_model in classifiers.items():\n",
    "        accuracy_list, precision_list, recall_list, f1_list, auc_list = ([] for i in range(5))\n",
    "        for train_indx, val_indx in sKfold.split(X_train, y_train):\n",
    "            if method == \"oversampling\":\n",
    "                pipeline_im = imbalanced_make_pipeline(SMOTENC(categorical_features = cat_col_indx, sampling_strategy='auto', k_neighbors=3)) \n",
    "                X_res, y_res = pipeline_im.fit_resample(X_train.values[train_indx], y_train.values[train_indx])\n",
    "            if method == \"undersampling\":\n",
    "                pipeline_im = imbalanced_make_pipeline(NearMiss(sampling_strategy='majority' , version = 3))\n",
    "                X_res, y_res = pipeline_im.fit_resample(X_train.values[train_indx], y_train.values[train_indx])\n",
    "            \n",
    "            classifier_model.fit(X_res,y_res)\n",
    "            y_pred_res = classifier_model.predict(X_train.values[val_indx])\n",
    "\n",
    "            accuracy_list.append(accuracy_score(y_train[val_indx],y_pred_res))\n",
    "            precision_list.append(precision_score(y_train[val_indx], y_pred_res))\n",
    "            recall_list.append(recall_score(y_train[val_indx], y_pred_res))\n",
    "            f1_list.append(f1_score(y_train[val_indx], y_pred_res))\n",
    "            auc_list.append(roc_auc_score(y_train[val_indx], y_pred_res))\n",
    "\n",
    "        df_metric['accuracy'].loc[row] = round(np.mean(accuracy_list),3)\n",
    "        df_metric['precision'].loc[row] = round(np.mean(precision_list),3)\n",
    "        df_metric['recall'].loc[row] = round(np.mean(recall_list),3)\n",
    "        df_metric['f1_score'].loc[row] = round(np.mean(f1_list),3)\n",
    "        df_metric['auc'].loc[row] = round(np.mean(auc_list),3)\n",
    "\n",
    "        row +=1\n",
    "    return df_metric\n",
    "    "
   ]
  },
  {
   "cell_type": "code",
   "execution_count": 705,
   "id": "407bbf78",
   "metadata": {},
   "outputs": [
    {
     "name": "stdout",
     "output_type": "stream",
     "text": [
      "\n",
      " Average results of cross validation for each classifier for oversampling\n"
     ]
    },
    {
     "data": {
      "text/html": [
       "<div>\n",
       "<style scoped>\n",
       "    .dataframe tbody tr th:only-of-type {\n",
       "        vertical-align: middle;\n",
       "    }\n",
       "\n",
       "    .dataframe tbody tr th {\n",
       "        vertical-align: top;\n",
       "    }\n",
       "\n",
       "    .dataframe thead th {\n",
       "        text-align: right;\n",
       "    }\n",
       "</style>\n",
       "<table border=\"1\" class=\"dataframe\">\n",
       "  <thead>\n",
       "    <tr style=\"text-align: center;\">\n",
       "      <th></th>\n",
       "      <th>classifiers</th>\n",
       "      <th>accuracy</th>\n",
       "      <th>precision</th>\n",
       "      <th>recall</th>\n",
       "      <th>f1_score</th>\n",
       "      <th>auc</th>\n",
       "    </tr>\n",
       "  </thead>\n",
       "  <tbody>\n",
       "    <tr>\n",
       "      <th>0</th>\n",
       "      <td>Logisitic Regression</td>\n",
       "      <td>0.764</td>\n",
       "      <td>0.292</td>\n",
       "      <td>0.738</td>\n",
       "      <td>0.418</td>\n",
       "      <td>0.753</td>\n",
       "    </tr>\n",
       "    <tr>\n",
       "      <th>1</th>\n",
       "      <td>RandomForest Classifier</td>\n",
       "      <td>0.845</td>\n",
       "      <td>0.349</td>\n",
       "      <td>0.4</td>\n",
       "      <td>0.372</td>\n",
       "      <td>0.651</td>\n",
       "    </tr>\n",
       "    <tr>\n",
       "      <th>2</th>\n",
       "      <td>KNearest Classifier</td>\n",
       "      <td>0.726</td>\n",
       "      <td>0.232</td>\n",
       "      <td>0.601</td>\n",
       "      <td>0.334</td>\n",
       "      <td>0.671</td>\n",
       "    </tr>\n",
       "    <tr>\n",
       "      <th>3</th>\n",
       "      <td>Support Vector Classifier</td>\n",
       "      <td>0.763</td>\n",
       "      <td>0.272</td>\n",
       "      <td>0.63</td>\n",
       "      <td>0.379</td>\n",
       "      <td>0.705</td>\n",
       "    </tr>\n",
       "    <tr>\n",
       "      <th>4</th>\n",
       "      <td>DecisionTree Classifier</td>\n",
       "      <td>0.806</td>\n",
       "      <td>0.264</td>\n",
       "      <td>0.382</td>\n",
       "      <td>0.31</td>\n",
       "      <td>0.621</td>\n",
       "    </tr>\n",
       "    <tr>\n",
       "      <th>5</th>\n",
       "      <td>XGBoost Classifier</td>\n",
       "      <td>0.862</td>\n",
       "      <td>0.387</td>\n",
       "      <td>0.331</td>\n",
       "      <td>0.356</td>\n",
       "      <td>0.631</td>\n",
       "    </tr>\n",
       "  </tbody>\n",
       "</table>\n",
       "</div>"
      ],
      "text/plain": [
       "         classifiers         accuracy precision recall f1_score  auc  \n",
       "0       Logisitic Regression   0.764     0.292   0.738   0.418   0.753\n",
       "1    RandomForest Classifier   0.845     0.349     0.4   0.372   0.651\n",
       "2        KNearest Classifier   0.726     0.232   0.601   0.334   0.671\n",
       "3  Support Vector Classifier   0.763     0.272    0.63   0.379   0.705\n",
       "4    DecisionTree Classifier   0.806     0.264   0.382    0.31   0.621\n",
       "5         XGBoost Classifier   0.862     0.387   0.331   0.356   0.631"
      ]
     },
     "execution_count": 705,
     "metadata": {},
     "output_type": "execute_result"
    }
   ],
   "source": [
    "approach = \"oversampling\"\n",
    "df_metric  = pipeline_model(approach, classifiers, X_train_sm, y_train_sm, cat_col_indx)\n",
    "print()\n",
    "print(' Average results of cross validation for each classifier for oversampling')\n",
    "df_metric"
   ]
  },
  {
   "cell_type": "code",
   "execution_count": 706,
   "id": "a77a581e",
   "metadata": {},
   "outputs": [
    {
     "name": "stdout",
     "output_type": "stream",
     "text": [
      "\n",
      " Average results of cross validation for each classifier for undersampling\n"
     ]
    },
    {
     "data": {
      "text/html": [
       "<div>\n",
       "<style scoped>\n",
       "    .dataframe tbody tr th:only-of-type {\n",
       "        vertical-align: middle;\n",
       "    }\n",
       "\n",
       "    .dataframe tbody tr th {\n",
       "        vertical-align: top;\n",
       "    }\n",
       "\n",
       "    .dataframe thead th {\n",
       "        text-align: right;\n",
       "    }\n",
       "</style>\n",
       "<table border=\"1\" class=\"dataframe\">\n",
       "  <thead>\n",
       "    <tr style=\"text-align: center;\">\n",
       "      <th></th>\n",
       "      <th>classifiers</th>\n",
       "      <th>accuracy</th>\n",
       "      <th>precision</th>\n",
       "      <th>recall</th>\n",
       "      <th>f1_score</th>\n",
       "      <th>auc</th>\n",
       "    </tr>\n",
       "  </thead>\n",
       "  <tbody>\n",
       "    <tr>\n",
       "      <th>0</th>\n",
       "      <td>Logisitic Regression</td>\n",
       "      <td>0.556</td>\n",
       "      <td>0.164</td>\n",
       "      <td>0.691</td>\n",
       "      <td>0.264</td>\n",
       "      <td>0.615</td>\n",
       "    </tr>\n",
       "    <tr>\n",
       "      <th>1</th>\n",
       "      <td>RandomForest Classifier</td>\n",
       "      <td>0.414</td>\n",
       "      <td>0.121</td>\n",
       "      <td>0.659</td>\n",
       "      <td>0.205</td>\n",
       "      <td>0.521</td>\n",
       "    </tr>\n",
       "    <tr>\n",
       "      <th>2</th>\n",
       "      <td>KNearest Classifier</td>\n",
       "      <td>0.422</td>\n",
       "      <td>0.107</td>\n",
       "      <td>0.551</td>\n",
       "      <td>0.179</td>\n",
       "      <td>0.478</td>\n",
       "    </tr>\n",
       "    <tr>\n",
       "      <th>3</th>\n",
       "      <td>Support Vector Classifier</td>\n",
       "      <td>0.286</td>\n",
       "      <td>0.103</td>\n",
       "      <td>0.681</td>\n",
       "      <td>0.179</td>\n",
       "      <td>0.458</td>\n",
       "    </tr>\n",
       "    <tr>\n",
       "      <th>4</th>\n",
       "      <td>DecisionTree Classifier</td>\n",
       "      <td>0.426</td>\n",
       "      <td>0.12</td>\n",
       "      <td>0.632</td>\n",
       "      <td>0.201</td>\n",
       "      <td>0.516</td>\n",
       "    </tr>\n",
       "    <tr>\n",
       "      <th>5</th>\n",
       "      <td>XGBoost Classifier</td>\n",
       "      <td>0.457</td>\n",
       "      <td>0.128</td>\n",
       "      <td>0.642</td>\n",
       "      <td>0.213</td>\n",
       "      <td>0.538</td>\n",
       "    </tr>\n",
       "  </tbody>\n",
       "</table>\n",
       "</div>"
      ],
      "text/plain": [
       "         classifiers         accuracy precision recall f1_score  auc  \n",
       "0       Logisitic Regression   0.556     0.164   0.691   0.264   0.615\n",
       "1    RandomForest Classifier   0.414     0.121   0.659   0.205   0.521\n",
       "2        KNearest Classifier   0.422     0.107   0.551   0.179   0.478\n",
       "3  Support Vector Classifier   0.286     0.103   0.681   0.179   0.458\n",
       "4    DecisionTree Classifier   0.426      0.12   0.632   0.201   0.516\n",
       "5         XGBoost Classifier   0.457     0.128   0.642   0.213   0.538"
      ]
     },
     "execution_count": 706,
     "metadata": {},
     "output_type": "execute_result"
    }
   ],
   "source": [
    "approach = \"undersampling\"\n",
    "df_metric  = pipeline_model(approach, classifiers, X_train_sm, y_train_sm, cat_col_indx)\n",
    "print()\n",
    "print(' Average results of cross validation for each classifier for undersampling')\n",
    "df_metric"
   ]
  },
  {
   "cell_type": "markdown",
   "id": "2afa7876",
   "metadata": {},
   "source": [
    "<li> Based on what we observe from metric in oversampling, <strong>logisitc regression, support vector classifier and\n",
    "XGboost </strong> were able to present better results compared to other methods, so lets try to tune some hyperparametrs\n",
    "for these mehtods to see which one can presents better results.</li>"
   ]
  },
  {
   "cell_type": "code",
   "execution_count": 708,
   "id": "4f5b29d9",
   "metadata": {},
   "outputs": [
    {
     "data": {
      "text/plain": [
       "Counter({0: 3156, 1: 3156})"
      ]
     },
     "execution_count": 708,
     "metadata": {},
     "output_type": "execute_result"
    }
   ],
   "source": [
    "SM = SMOTENC(categorical_features = cat_col_indx, sampling_strategy='auto', k_neighbors=3)\n",
    "X_over_res, y_over_res = SM.fit_resample(X_train_sm, y_train_sm)\n",
    "Counter(y_over_res)"
   ]
  },
  {
   "cell_type": "code",
   "execution_count": 709,
   "id": "a6c54c1b",
   "metadata": {},
   "outputs": [],
   "source": [
    "y_count = pd.DataFrame(y_over_res, columns = ['approval'])"
   ]
  },
  {
   "cell_type": "code",
   "execution_count": 710,
   "id": "8ef98153",
   "metadata": {},
   "outputs": [
    {
     "data": {
      "text/plain": [
       "Text(0.5, 1.0, 'Approval rate distributions after oversampling')"
      ]
     },
     "execution_count": 710,
     "metadata": {},
     "output_type": "execute_result"
    },
    {
     "data": {
      "image/png": "[encoded data removed]",
      "text/plain": [
       "<Figure size 432x288 with 1 Axes>"
      ]
     },
     "metadata": {
      "needs_background": "light"
     },
     "output_type": "display_data"
    }
   ],
   "source": [
    "# approval rate distribution\n",
    "sns.countplot('approval' , data=y_count, palette=['#432371',\"#FAAE7B\"])\n",
    "plt.title('Approval rate distributions after oversampling', fontsize=14)"
   ]
  },
  {
   "cell_type": "code",
   "execution_count": 711,
   "id": "1c50b338",
   "metadata": {},
   "outputs": [
    {
     "name": "stdout",
     "output_type": "stream",
     "text": [
      "Test accuracy with HP tuned XGBClassifier  : 0.862\n",
      "Test precision with HP tuned XGBClassifier : 0.388\n",
      "Test recall with HP tuned XGBClassifier    : 0.4\n"
     ]
    }
   ],
   "source": [
    "xgb_hp_tunning = xgb.XGBClassifier(eval_metric  = \"logloss\") \n",
    "\n",
    "# Grid of parameters to choose from\n",
    "\n",
    "xgb_params = {\n",
    "    \"n_estimators\": [10, 50, 100],\n",
    "    \"subsample\":[0.6, 0.8, 1],\n",
    "    \"learning_rate\":[0.01, 0.1, 0.5, 1],\n",
    "    \"gamma\":[0.01, 0.1, 1, 5],\n",
    "    \"alpha\":[0, 0.1, 0.5]\n",
    "}\n",
    "\n",
    "grid_xgb = GridSearchCV(xgb_hp_tunning, xgb_params, cv = 5)\n",
    "\n",
    "grid_xgb.fit(X_over_res, y_over_res)\n",
    "xgb_best_model = grid_xgb.best_estimator_\n",
    "\n",
    "y_pred = xgb_best_model.predict(X_test_sm)\n",
    "accuracy  = metrics.accuracy_score(y_test_sm, y_pred)\n",
    "precision  = metrics.precision_score(y_test_sm, y_pred)\n",
    "recall  = metrics.recall_score(y_test_sm, y_pred)\n",
    "\n",
    "print(f'Test accuracy with HP tuned XGBClassifier  : {round(accuracy,3)}')\n",
    "print(f'Test precision with HP tuned XGBClassifier : {round(precision,3)}')\n",
    "print(f'Test recall with HP tuned XGBClassifier    : {round(recall,3)}')"
   ]
  },
  {
   "cell_type": "code",
   "execution_count": 712,
   "id": "a929a5e5",
   "metadata": {},
   "outputs": [
    {
     "name": "stdout",
     "output_type": "stream",
     "text": [
      "Test accuracy with HP tuned logistic regression  : 0.775\n",
      "Test precision with HP tuned logistic regression : 0.296\n",
      "Test recall with HP tuned logistic regression    : 0.73\n"
     ]
    }
   ],
   "source": [
    "logreg_params = {\"penalty\": ['l1', 'l2', 'elasticnet'], \n",
    "                 'C': np.logspace(-4, 4, 10),\n",
    "                 'solver' : ['lbfgs', 'newton-cg', 'sag', 'liblinear']\n",
    "                }\n",
    "\n",
    "grid_logreg = GridSearchCV(LogisticRegression(), logreg_params,  cv = 5)\n",
    "grid_logreg.fit(X_over_res, y_over_res)\n",
    "logreg_best_model = grid_logreg.best_estimator_\n",
    "\n",
    "y_pred = logreg_best_model.predict(X_test_sm)\n",
    "accuracy  = metrics.accuracy_score(y_test_sm, y_pred)\n",
    "precision  = metrics.precision_score(y_test_sm, y_pred)\n",
    "recall  = metrics.recall_score(y_test_sm, y_pred)\n",
    "\n",
    "print(f'Test accuracy with HP tuned logistic regression  : {round(accuracy,3)}')\n",
    "print(f'Test precision with HP tuned logistic regression : {round(precision,3)}')\n",
    "print(f'Test recall with HP tuned logistic regression    : {round(recall,3)}')"
   ]
  },
  {
   "cell_type": "code",
   "execution_count": null,
   "id": "58a2a1bf",
   "metadata": {},
   "outputs": [],
   "source": [
    "svc_params = {'C': [0.1, 1, 10, 100, 1000], \n",
    "              'gamma': ['scale', 'auto'],\n",
    "              'kernel' : ['poly', 'rbf', 'sigmoid']  \n",
    "             }\n",
    "  \n",
    "grid_svc = GridSearchCV(SVC(), svc_params, refit = True, cv = 5)\n",
    "  \n",
    "grid_svc.fit(X_over_res, y_over_res)\n",
    "svc_best_model = grid_svc.best_estimator_\n",
    "\n",
    "y_pred = svc_best_model.predict(X_test_sm)\n",
    "accuracy  = metrics.accuracy_score(y_test_sm, y_pred)\n",
    "precision  = metrics.precision_score(y_test_sm, y_pred)\n",
    "recall  = metrics.recall_score(y_test_sm, y_pred)\n",
    "\n",
    "print(f'Test accuracy with HP tuned SVC  : {round(accuracy,3)}')\n",
    "print(f'Test precision with HP tuned SVC : {round(precision,3)}')\n",
    "print(f'Test Recall with HP tuned SVC    : {round(recall,3)}')"
   ]
  },
  {
   "cell_type": "markdown",
   "id": "d36b65ef",
   "metadata": {},
   "source": [
    "<li> It seems that logistic regression ans SVC were able to provide competitive or even better results than XGboost in this example.\n",
    "There are some studies (linked as below) show that logistic regression performs well in imbalanced classification.</li>\n",
    "\n",
    "<a href=\"https://pdfs.semanticscholar.org/2b17/566232141db0e87b7034b7910894455ccccc.pdf?_gl=1*1jvy068*_ga*NzA4MzQ5NjIxLjE2Nzg5MTM0Mzc.*_ga_H7P4ZT52H5*MTY3ODkxMzQzNi4xLjAuMTY3ODkxMzQzNy4wLjAuMA..\">S Lai, N Md Shahri, M Mohamad, H Abdul Rahman and A Rambli. \"Comparing the Performance of AdaBoost, XGBoost, and Logistic Regression for Imbalanced Data\" Mathematics and Statistics 9(3): 379-385, 2021. </a>\n",
    "\n",
    "<p>  \n",
    "<li> The reason of the outperfromance of log reg to tree based methods might be to some multicollinearity (based on corr matrix we dont have multicollinearity in our dataset), outliers (outliers are also removed from dataset), imbalanced percentage in the data. </li>\n",
    "<p>\n",
    "</p>\n",
    "<li> Another reason is that usually gradient boosting approaches have poor probability calibration in comparison to logistic regression models. <li>\n",
    "\n",
    "<a href = \"https://arxiv.org/abs/1207.1403\"> Niculescu-Mizi & Caruana (2005) \"Obtaining Calibrated Probabilities from Boosting\" </a>\n"
   ]
  },
  {
   "cell_type": "markdown",
   "id": "96c019d7",
   "metadata": {},
   "source": [
    "<h3> Neural Networks (undersampling (random) and oversampling (SMOTENC)) </h3>\n",
    "<p>\n",
    "</p>\n",
    "<li> In this section, two neural networks model are created for undersampling and oversampling.</li>\n",
    "<p>\n",
    "</p>\n",
    "<li> <strong>Note:</strong> like previous models we are only allowed to undersample/oversample the \n",
    "training data set and should not change the validation or test dataset distribution, otherwise we leak the data\n",
    "and will witness a very good performance on the model which is not realistic.</li>\n",
    "\n",
    "<p>\n",
    "</p>\n",
    "<li> <strong>Important Note: Due to low quality dataset that we have (no observed correlation between features and target \n",
    "variable, few number of samples and features at the same time ) we witness relatively high loss in both NN models.</strong> </li>"
   ]
  },
  {
   "cell_type": "code",
   "execution_count": 764,
   "id": "30385374",
   "metadata": {},
   "outputs": [],
   "source": [
    "# shuffling the data and scaling the features\n",
    "shuffled_df = df_labelencoded.sample(frac = 1)\n",
    "y_shuffled_df = shuffled_df[['approval']]\n",
    "scaled_features = StandardScaler().fit_transform(shuffled_df.iloc[:, :8].values)\n",
    "x_shuffled_df = pd.DataFrame(scaled_features, index=shuffled_df.index, columns=shuffled_df.columns[:8])\n",
    "shuffled_df = pd.concat([x_shuffled_df,y_shuffled_df], axis = 1)\n",
    "\n",
    "# splitting train, validation and test dataframes\n",
    "df_test = shuffled_df.iloc[:int(0.12*shuffled_df.shape[0]),:]\n",
    "df_train_f = shuffled_df.drop(index = df_test.index)\n",
    "df_val = df_train_f.iloc[:int(0.12*df_train_f.shape[0]),:]\n",
    "df_train = df_train_f.drop(index = df_val.index)\n",
    "\n",
    "# creating positive and negative df for undersampling  \n",
    "pos_df = df_train.loc[df_train['approval'] == 0][:Counter(df_train['approval'])[1]]\n",
    "neg_df = df_train.loc[df_train['approval'] == 1]\n",
    "\n",
    "# merging dataframes\n",
    "df_merged = pd.concat([pos_df, neg_df])\n",
    "df_merged = df_merged.sample(frac = 1)\n",
    "\n",
    "# creating undersampled train dataset  \n",
    "X_train_undrsmpl= df_merged.drop('approval' , axis = 1)\n",
    "y_train_undrsmpl = np.array(df_merged['approval'])\n",
    "\n",
    "# creating untouched validation and test datsets\n",
    "X_test = df_test.drop('approval', axis = 1)\n",
    "y_test = df_test['approval']\n",
    "X_val = df_val.drop('approval', axis = 1)\n",
    "y_val = df_val['approval']"
   ]
  },
  {
   "cell_type": "markdown",
   "id": "9ee8d94b",
   "metadata": {},
   "source": [
    "<h3> Neural Networks (undersampling)  </h3>"
   ]
  },
  {
   "cell_type": "code",
   "execution_count": 765,
   "id": "679039d0",
   "metadata": {},
   "outputs": [],
   "source": [
    "def underSample_Base_model():\n",
    "\n",
    "    model = Sequential()\n",
    "    input_shapes = (8,)\n",
    "    model.add(Dense(128, activation='relu', input_shape = input_shapes))\n",
    "    model.add(BatchNormalization())\n",
    "    model.add(Dropout(0.5))\n",
    "    model.add(Dense(64, activation='relu'))\n",
    "    model.add(BatchNormalization())\n",
    "    model.add(Dropout(0.5))\n",
    "    model.add(Dense(1, activation='sigmoid'))\n",
    "    \n",
    "    return model\n",
    "\n",
    "NN_model_un = underSample_Base_model()"
   ]
  },
  {
   "cell_type": "code",
   "execution_count": 766,
   "id": "e16e651f",
   "metadata": {},
   "outputs": [
    {
     "name": "stdout",
     "output_type": "stream",
     "text": [
      "Model: \"sequential_11\"\n",
      "_________________________________________________________________\n",
      " Layer (type)                Output Shape              Param #   \n",
      "=================================================================\n",
      " dense_33 (Dense)            (None, 128)               1152      \n",
      "                                                                 \n",
      " batch_normalization_22 (Bat  (None, 128)              512       \n",
      " chNormalization)                                                \n",
      "                                                                 \n",
      " dropout_22 (Dropout)        (None, 128)               0         \n",
      "                                                                 \n",
      " dense_34 (Dense)            (None, 64)                8256      \n",
      "                                                                 \n",
      " batch_normalization_23 (Bat  (None, 64)               256       \n",
      " chNormalization)                                                \n",
      "                                                                 \n",
      " dropout_23 (Dropout)        (None, 64)                0         \n",
      "                                                                 \n",
      " dense_35 (Dense)            (None, 1)                 65        \n",
      "                                                                 \n",
      "=================================================================\n",
      "Total params: 10,241\n",
      "Trainable params: 9,857\n",
      "Non-trainable params: 384\n",
      "_________________________________________________________________\n"
     ]
    }
   ],
   "source": [
    "NN_model_un.summary()"
   ]
  },
  {
   "cell_type": "code",
   "execution_count": 767,
   "id": "c1272b8d",
   "metadata": {},
   "outputs": [],
   "source": [
    "opt = Adam(learning_rate=0.005)\n",
    "NN_model_un.compile(optimizer = opt, loss='binary_crossentropy', metrics=['accuracy'])"
   ]
  },
  {
   "cell_type": "code",
   "execution_count": 768,
   "id": "0d5b7936",
   "metadata": {},
   "outputs": [
    {
     "name": "stdout",
     "output_type": "stream",
     "text": [
      "Epoch 1/100\n",
      "7/7 - 1s - loss: 0.7796 - accuracy: 0.6170 - val_loss: 0.7268 - val_accuracy: 0.5000 - 1s/epoch - 147ms/step\n",
      "Epoch 2/100\n",
      "7/7 - 0s - loss: 0.6293 - accuracy: 0.7163 - val_loss: 0.7135 - val_accuracy: 0.5447 - 55ms/epoch - 8ms/step\n",
      "Epoch 3/100\n",
      "7/7 - 0s - loss: 0.5656 - accuracy: 0.7481 - val_loss: 0.7065 - val_accuracy: 0.5468 - 52ms/epoch - 7ms/step\n",
      "Epoch 4/100\n",
      "7/7 - 0s - loss: 0.5284 - accuracy: 0.7570 - val_loss: 0.6834 - val_accuracy: 0.5787 - 56ms/epoch - 8ms/step\n",
      "Epoch 5/100\n",
      "7/7 - 0s - loss: 0.5127 - accuracy: 0.7659 - val_loss: 0.6794 - val_accuracy: 0.5702 - 55ms/epoch - 8ms/step\n",
      "Epoch 6/100\n",
      "7/7 - 0s - loss: 0.5092 - accuracy: 0.7634 - val_loss: 0.6619 - val_accuracy: 0.6149 - 52ms/epoch - 7ms/step\n",
      "Epoch 7/100\n",
      "7/7 - 0s - loss: 0.5152 - accuracy: 0.7443 - val_loss: 0.6539 - val_accuracy: 0.6191 - 57ms/epoch - 8ms/step\n",
      "Epoch 8/100\n",
      "7/7 - 0s - loss: 0.5020 - accuracy: 0.7774 - val_loss: 0.6557 - val_accuracy: 0.6064 - 56ms/epoch - 8ms/step\n",
      "Epoch 9/100\n",
      "7/7 - 0s - loss: 0.5234 - accuracy: 0.7545 - val_loss: 0.6590 - val_accuracy: 0.5936 - 55ms/epoch - 8ms/step\n",
      "Epoch 10/100\n",
      "7/7 - 0s - loss: 0.4879 - accuracy: 0.7748 - val_loss: 0.6508 - val_accuracy: 0.6085 - 59ms/epoch - 8ms/step\n",
      "Epoch 11/100\n",
      "7/7 - 0s - loss: 0.4828 - accuracy: 0.7723 - val_loss: 0.6315 - val_accuracy: 0.6511 - 58ms/epoch - 8ms/step\n",
      "Epoch 12/100\n",
      "7/7 - 0s - loss: 0.4831 - accuracy: 0.7926 - val_loss: 0.6112 - val_accuracy: 0.6702 - 57ms/epoch - 8ms/step\n",
      "Epoch 13/100\n",
      "7/7 - 0s - loss: 0.4818 - accuracy: 0.7621 - val_loss: 0.5948 - val_accuracy: 0.6894 - 52ms/epoch - 7ms/step\n",
      "Epoch 14/100\n",
      "7/7 - 0s - loss: 0.4686 - accuracy: 0.7761 - val_loss: 0.5780 - val_accuracy: 0.7064 - 57ms/epoch - 8ms/step\n",
      "Epoch 15/100\n",
      "7/7 - 0s - loss: 0.4661 - accuracy: 0.7812 - val_loss: 0.5826 - val_accuracy: 0.6936 - 52ms/epoch - 7ms/step\n",
      "Epoch 16/100\n",
      "7/7 - 0s - loss: 0.4654 - accuracy: 0.7824 - val_loss: 0.5800 - val_accuracy: 0.6915 - 52ms/epoch - 7ms/step\n",
      "Epoch 17/100\n",
      "7/7 - 0s - loss: 0.4665 - accuracy: 0.7875 - val_loss: 0.5869 - val_accuracy: 0.6872 - 53ms/epoch - 8ms/step\n",
      "Epoch 18/100\n",
      "7/7 - 0s - loss: 0.4551 - accuracy: 0.7901 - val_loss: 0.5840 - val_accuracy: 0.6851 - 56ms/epoch - 8ms/step\n",
      "Epoch 19/100\n",
      "7/7 - 0s - loss: 0.4606 - accuracy: 0.7863 - val_loss: 0.5911 - val_accuracy: 0.6872 - 56ms/epoch - 8ms/step\n",
      "Epoch 20/100\n",
      "7/7 - 0s - loss: 0.4516 - accuracy: 0.7952 - val_loss: 0.5932 - val_accuracy: 0.6766 - 53ms/epoch - 8ms/step\n",
      "Epoch 21/100\n",
      "7/7 - 0s - loss: 0.4673 - accuracy: 0.7888 - val_loss: 0.5918 - val_accuracy: 0.6681 - 59ms/epoch - 8ms/step\n",
      "Epoch 22/100\n",
      "7/7 - 0s - loss: 0.4494 - accuracy: 0.8053 - val_loss: 0.5923 - val_accuracy: 0.6617 - 59ms/epoch - 8ms/step\n",
      "Epoch 23/100\n",
      "7/7 - 0s - loss: 0.4617 - accuracy: 0.7964 - val_loss: 0.5927 - val_accuracy: 0.6660 - 52ms/epoch - 7ms/step\n",
      "Epoch 24/100\n",
      "7/7 - 0s - loss: 0.4515 - accuracy: 0.7990 - val_loss: 0.5896 - val_accuracy: 0.6766 - 56ms/epoch - 8ms/step\n",
      "Epoch 25/100\n",
      "7/7 - 0s - loss: 0.4430 - accuracy: 0.7812 - val_loss: 0.5916 - val_accuracy: 0.6787 - 52ms/epoch - 7ms/step\n",
      "Epoch 26/100\n",
      "7/7 - 0s - loss: 0.4453 - accuracy: 0.7926 - val_loss: 0.6007 - val_accuracy: 0.6660 - 56ms/epoch - 8ms/step\n",
      "Epoch 27/100\n",
      "7/7 - 0s - loss: 0.4552 - accuracy: 0.8041 - val_loss: 0.5960 - val_accuracy: 0.6617 - 56ms/epoch - 8ms/step\n",
      "Epoch 28/100\n",
      "7/7 - 0s - loss: 0.4477 - accuracy: 0.7926 - val_loss: 0.5670 - val_accuracy: 0.6957 - 52ms/epoch - 7ms/step\n",
      "Epoch 29/100\n",
      "7/7 - 0s - loss: 0.4413 - accuracy: 0.7977 - val_loss: 0.5449 - val_accuracy: 0.7170 - 60ms/epoch - 9ms/step\n",
      "Epoch 30/100\n",
      "7/7 - 0s - loss: 0.4308 - accuracy: 0.7952 - val_loss: 0.5327 - val_accuracy: 0.7191 - 54ms/epoch - 8ms/step\n",
      "Epoch 31/100\n",
      "7/7 - 0s - loss: 0.4459 - accuracy: 0.7863 - val_loss: 0.5364 - val_accuracy: 0.7128 - 54ms/epoch - 8ms/step\n",
      "Epoch 32/100\n",
      "7/7 - 0s - loss: 0.4679 - accuracy: 0.7926 - val_loss: 0.5356 - val_accuracy: 0.7149 - 56ms/epoch - 8ms/step\n",
      "Epoch 33/100\n",
      "7/7 - 0s - loss: 0.4582 - accuracy: 0.7863 - val_loss: 0.5185 - val_accuracy: 0.7277 - 55ms/epoch - 8ms/step\n",
      "Epoch 34/100\n",
      "7/7 - 0s - loss: 0.4504 - accuracy: 0.7939 - val_loss: 0.5190 - val_accuracy: 0.7319 - 55ms/epoch - 8ms/step\n",
      "Epoch 35/100\n",
      "7/7 - 0s - loss: 0.4550 - accuracy: 0.8003 - val_loss: 0.5383 - val_accuracy: 0.7191 - 60ms/epoch - 9ms/step\n",
      "Epoch 36/100\n",
      "7/7 - 0s - loss: 0.4377 - accuracy: 0.8041 - val_loss: 0.5459 - val_accuracy: 0.7021 - 57ms/epoch - 8ms/step\n",
      "Epoch 37/100\n",
      "7/7 - 0s - loss: 0.4463 - accuracy: 0.8053 - val_loss: 0.5428 - val_accuracy: 0.7043 - 57ms/epoch - 8ms/step\n",
      "Epoch 38/100\n",
      "7/7 - 0s - loss: 0.4409 - accuracy: 0.7952 - val_loss: 0.5452 - val_accuracy: 0.7043 - 56ms/epoch - 8ms/step\n",
      "Epoch 39/100\n",
      "7/7 - 0s - loss: 0.4489 - accuracy: 0.7952 - val_loss: 0.5364 - val_accuracy: 0.7128 - 52ms/epoch - 7ms/step\n",
      "Epoch 40/100\n",
      "7/7 - 0s - loss: 0.4483 - accuracy: 0.7939 - val_loss: 0.5446 - val_accuracy: 0.6936 - 55ms/epoch - 8ms/step\n",
      "Epoch 41/100\n",
      "7/7 - 0s - loss: 0.4331 - accuracy: 0.7824 - val_loss: 0.5598 - val_accuracy: 0.6787 - 52ms/epoch - 7ms/step\n",
      "Epoch 42/100\n",
      "7/7 - 0s - loss: 0.4475 - accuracy: 0.8053 - val_loss: 0.5529 - val_accuracy: 0.6830 - 52ms/epoch - 7ms/step\n",
      "Epoch 43/100\n",
      "7/7 - 0s - loss: 0.4364 - accuracy: 0.8168 - val_loss: 0.5394 - val_accuracy: 0.6979 - 56ms/epoch - 8ms/step\n",
      "Epoch 44/100\n",
      "7/7 - 0s - loss: 0.4340 - accuracy: 0.7926 - val_loss: 0.5281 - val_accuracy: 0.7043 - 53ms/epoch - 8ms/step\n",
      "Epoch 45/100\n",
      "7/7 - 0s - loss: 0.4463 - accuracy: 0.7977 - val_loss: 0.5281 - val_accuracy: 0.7128 - 56ms/epoch - 8ms/step\n",
      "Epoch 46/100\n",
      "7/7 - 0s - loss: 0.4365 - accuracy: 0.7990 - val_loss: 0.5313 - val_accuracy: 0.7085 - 52ms/epoch - 7ms/step\n",
      "Epoch 47/100\n",
      "7/7 - 0s - loss: 0.4494 - accuracy: 0.7952 - val_loss: 0.5347 - val_accuracy: 0.6979 - 52ms/epoch - 7ms/step\n",
      "Epoch 48/100\n",
      "7/7 - 0s - loss: 0.4509 - accuracy: 0.8053 - val_loss: 0.5183 - val_accuracy: 0.7085 - 52ms/epoch - 7ms/step\n",
      "Epoch 49/100\n",
      "7/7 - 0s - loss: 0.4439 - accuracy: 0.8003 - val_loss: 0.5117 - val_accuracy: 0.7213 - 55ms/epoch - 8ms/step\n",
      "Epoch 50/100\n",
      "7/7 - 0s - loss: 0.4294 - accuracy: 0.8079 - val_loss: 0.5001 - val_accuracy: 0.7298 - 52ms/epoch - 7ms/step\n",
      "Epoch 51/100\n",
      "7/7 - 0s - loss: 0.4366 - accuracy: 0.7850 - val_loss: 0.4974 - val_accuracy: 0.7383 - 56ms/epoch - 8ms/step\n",
      "Epoch 52/100\n",
      "7/7 - 0s - loss: 0.4266 - accuracy: 0.8155 - val_loss: 0.5135 - val_accuracy: 0.7234 - 52ms/epoch - 7ms/step\n",
      "Epoch 53/100\n",
      "7/7 - 0s - loss: 0.4283 - accuracy: 0.8206 - val_loss: 0.5213 - val_accuracy: 0.7213 - 52ms/epoch - 7ms/step\n",
      "Epoch 54/100\n",
      "7/7 - 0s - loss: 0.4468 - accuracy: 0.8028 - val_loss: 0.5248 - val_accuracy: 0.7234 - 54ms/epoch - 8ms/step\n",
      "Epoch 55/100\n",
      "7/7 - 0s - loss: 0.4207 - accuracy: 0.8117 - val_loss: 0.5242 - val_accuracy: 0.7170 - 55ms/epoch - 8ms/step\n",
      "Epoch 56/100\n",
      "7/7 - 0s - loss: 0.4364 - accuracy: 0.7926 - val_loss: 0.5357 - val_accuracy: 0.7064 - 54ms/epoch - 8ms/step\n",
      "Epoch 57/100\n",
      "7/7 - 0s - loss: 0.4150 - accuracy: 0.8193 - val_loss: 0.5413 - val_accuracy: 0.7128 - 53ms/epoch - 8ms/step\n",
      "Epoch 58/100\n",
      "7/7 - 0s - loss: 0.4346 - accuracy: 0.8041 - val_loss: 0.5299 - val_accuracy: 0.7170 - 54ms/epoch - 8ms/step\n",
      "Epoch 59/100\n",
      "7/7 - 0s - loss: 0.4330 - accuracy: 0.8092 - val_loss: 0.5295 - val_accuracy: 0.7213 - 52ms/epoch - 7ms/step\n",
      "Epoch 60/100\n",
      "7/7 - 0s - loss: 0.4223 - accuracy: 0.8028 - val_loss: 0.5476 - val_accuracy: 0.7064 - 52ms/epoch - 7ms/step\n",
      "Epoch 61/100\n",
      "7/7 - 0s - loss: 0.4185 - accuracy: 0.8053 - val_loss: 0.5637 - val_accuracy: 0.7085 - 48ms/epoch - 7ms/step\n",
      "Epoch 62/100\n",
      "7/7 - 0s - loss: 0.4152 - accuracy: 0.8181 - val_loss: 0.5721 - val_accuracy: 0.7213 - 54ms/epoch - 8ms/step\n",
      "Epoch 63/100\n",
      "7/7 - 0s - loss: 0.4248 - accuracy: 0.8104 - val_loss: 0.5685 - val_accuracy: 0.7106 - 53ms/epoch - 8ms/step\n",
      "Epoch 64/100\n",
      "7/7 - 0s - loss: 0.4211 - accuracy: 0.8130 - val_loss: 0.5572 - val_accuracy: 0.7149 - 52ms/epoch - 7ms/step\n",
      "Epoch 65/100\n",
      "7/7 - 0s - loss: 0.4407 - accuracy: 0.8130 - val_loss: 0.5531 - val_accuracy: 0.7234 - 52ms/epoch - 7ms/step\n",
      "Epoch 66/100\n",
      "7/7 - 0s - loss: 0.4275 - accuracy: 0.8130 - val_loss: 0.5402 - val_accuracy: 0.7277 - 52ms/epoch - 7ms/step\n",
      "Epoch 67/100\n",
      "7/7 - 0s - loss: 0.4271 - accuracy: 0.8092 - val_loss: 0.5429 - val_accuracy: 0.7255 - 48ms/epoch - 7ms/step\n",
      "Epoch 68/100\n",
      "7/7 - 0s - loss: 0.4244 - accuracy: 0.7977 - val_loss: 0.5489 - val_accuracy: 0.7128 - 51ms/epoch - 7ms/step\n"
     ]
    },
    {
     "name": "stdout",
     "output_type": "stream",
     "text": [
      "Epoch 69/100\n",
      "7/7 - 0s - loss: 0.4257 - accuracy: 0.8028 - val_loss: 0.5416 - val_accuracy: 0.7106 - 52ms/epoch - 7ms/step\n",
      "Epoch 70/100\n",
      "7/7 - 0s - loss: 0.4349 - accuracy: 0.8028 - val_loss: 0.5422 - val_accuracy: 0.7128 - 54ms/epoch - 8ms/step\n",
      "Epoch 71/100\n",
      "7/7 - 0s - loss: 0.4359 - accuracy: 0.8142 - val_loss: 0.5235 - val_accuracy: 0.7362 - 52ms/epoch - 7ms/step\n",
      "Epoch 72/100\n",
      "7/7 - 0s - loss: 0.4465 - accuracy: 0.7863 - val_loss: 0.5234 - val_accuracy: 0.7234 - 52ms/epoch - 7ms/step\n",
      "Epoch 73/100\n",
      "7/7 - 0s - loss: 0.4320 - accuracy: 0.8130 - val_loss: 0.5450 - val_accuracy: 0.7149 - 52ms/epoch - 7ms/step\n",
      "Epoch 74/100\n",
      "7/7 - 0s - loss: 0.4254 - accuracy: 0.8155 - val_loss: 0.5643 - val_accuracy: 0.7021 - 64ms/epoch - 9ms/step\n",
      "Epoch 75/100\n",
      "7/7 - 0s - loss: 0.4142 - accuracy: 0.8206 - val_loss: 0.5918 - val_accuracy: 0.6809 - 62ms/epoch - 9ms/step\n",
      "Epoch 76/100\n",
      "7/7 - 0s - loss: 0.4223 - accuracy: 0.7977 - val_loss: 0.5988 - val_accuracy: 0.6915 - 57ms/epoch - 8ms/step\n",
      "Epoch 77/100\n",
      "7/7 - 0s - loss: 0.4139 - accuracy: 0.8117 - val_loss: 0.5815 - val_accuracy: 0.7149 - 52ms/epoch - 7ms/step\n",
      "Epoch 78/100\n",
      "7/7 - 0s - loss: 0.4209 - accuracy: 0.8270 - val_loss: 0.5669 - val_accuracy: 0.7234 - 52ms/epoch - 7ms/step\n",
      "Epoch 79/100\n",
      "7/7 - 0s - loss: 0.4088 - accuracy: 0.8130 - val_loss: 0.5738 - val_accuracy: 0.7213 - 52ms/epoch - 7ms/step\n",
      "Epoch 80/100\n",
      "7/7 - 0s - loss: 0.4290 - accuracy: 0.8117 - val_loss: 0.5805 - val_accuracy: 0.7128 - 52ms/epoch - 7ms/step\n",
      "Epoch 81/100\n",
      "7/7 - 0s - loss: 0.4322 - accuracy: 0.7939 - val_loss: 0.5861 - val_accuracy: 0.7170 - 52ms/epoch - 7ms/step\n",
      "Epoch 82/100\n",
      "7/7 - 0s - loss: 0.4142 - accuracy: 0.8053 - val_loss: 0.5907 - val_accuracy: 0.7064 - 57ms/epoch - 8ms/step\n",
      "Epoch 83/100\n",
      "7/7 - 0s - loss: 0.4300 - accuracy: 0.8181 - val_loss: 0.5879 - val_accuracy: 0.7170 - 56ms/epoch - 8ms/step\n",
      "Epoch 84/100\n",
      "7/7 - 0s - loss: 0.4345 - accuracy: 0.7977 - val_loss: 0.5929 - val_accuracy: 0.7064 - 56ms/epoch - 8ms/step\n",
      "Epoch 85/100\n",
      "7/7 - 0s - loss: 0.4216 - accuracy: 0.8003 - val_loss: 0.5790 - val_accuracy: 0.7106 - 56ms/epoch - 8ms/step\n",
      "Epoch 86/100\n",
      "7/7 - 0s - loss: 0.4020 - accuracy: 0.8308 - val_loss: 0.5719 - val_accuracy: 0.7149 - 52ms/epoch - 7ms/step\n",
      "Epoch 87/100\n",
      "7/7 - 0s - loss: 0.4093 - accuracy: 0.8206 - val_loss: 0.5739 - val_accuracy: 0.7043 - 52ms/epoch - 7ms/step\n",
      "Epoch 88/100\n",
      "7/7 - 0s - loss: 0.4128 - accuracy: 0.8130 - val_loss: 0.5707 - val_accuracy: 0.7064 - 52ms/epoch - 7ms/step\n",
      "Epoch 89/100\n",
      "7/7 - 0s - loss: 0.4185 - accuracy: 0.8003 - val_loss: 0.5733 - val_accuracy: 0.7064 - 58ms/epoch - 8ms/step\n",
      "Epoch 90/100\n",
      "7/7 - 0s - loss: 0.4300 - accuracy: 0.8079 - val_loss: 0.5662 - val_accuracy: 0.7021 - 56ms/epoch - 8ms/step\n",
      "Epoch 91/100\n",
      "7/7 - 0s - loss: 0.4152 - accuracy: 0.8079 - val_loss: 0.5557 - val_accuracy: 0.7191 - 51ms/epoch - 7ms/step\n",
      "Epoch 92/100\n",
      "7/7 - 0s - loss: 0.4127 - accuracy: 0.8104 - val_loss: 0.5588 - val_accuracy: 0.7191 - 49ms/epoch - 7ms/step\n",
      "Epoch 93/100\n",
      "7/7 - 0s - loss: 0.4253 - accuracy: 0.7977 - val_loss: 0.5726 - val_accuracy: 0.7191 - 47ms/epoch - 7ms/step\n",
      "Epoch 94/100\n",
      "7/7 - 0s - loss: 0.4161 - accuracy: 0.8193 - val_loss: 0.5778 - val_accuracy: 0.7085 - 48ms/epoch - 7ms/step\n",
      "Epoch 95/100\n",
      "7/7 - 0s - loss: 0.4205 - accuracy: 0.8168 - val_loss: 0.5646 - val_accuracy: 0.7170 - 48ms/epoch - 7ms/step\n",
      "Epoch 96/100\n",
      "7/7 - 0s - loss: 0.4111 - accuracy: 0.7977 - val_loss: 0.5656 - val_accuracy: 0.7213 - 49ms/epoch - 7ms/step\n",
      "Epoch 97/100\n",
      "7/7 - 0s - loss: 0.4026 - accuracy: 0.8282 - val_loss: 0.5692 - val_accuracy: 0.7255 - 52ms/epoch - 7ms/step\n",
      "Epoch 98/100\n",
      "7/7 - 0s - loss: 0.4119 - accuracy: 0.8181 - val_loss: 0.5951 - val_accuracy: 0.7021 - 51ms/epoch - 7ms/step\n",
      "Epoch 99/100\n",
      "7/7 - 0s - loss: 0.4115 - accuracy: 0.8079 - val_loss: 0.6063 - val_accuracy: 0.6957 - 51ms/epoch - 7ms/step\n",
      "Epoch 100/100\n",
      "7/7 - 0s - loss: 0.4205 - accuracy: 0.8232 - val_loss: 0.5996 - val_accuracy: 0.7064 - 53ms/epoch - 8ms/step\n"
     ]
    },
    {
     "data": {
      "text/plain": [
       "<keras.callbacks.History at 0x1ef41773250>"
      ]
     },
     "execution_count": 768,
     "metadata": {},
     "output_type": "execute_result"
    }
   ],
   "source": [
    "NN_model_un.fit(X_train_undrsmpl, y_train_undrsmpl, validation_data = (X_val, y_val), batch_size=128, epochs=100, shuffle=True, verbose=2)"
   ]
  },
  {
   "cell_type": "code",
   "execution_count": 769,
   "id": "0a75810c",
   "metadata": {},
   "outputs": [
    {
     "name": "stdout",
     "output_type": "stream",
     "text": [
      "17/17 [==============================] - 0s 1ms/step\n"
     ]
    }
   ],
   "source": [
    "y_pred = NN_model_un.predict(X_test)"
   ]
  },
  {
   "cell_type": "code",
   "execution_count": 770,
   "id": "db046cc3",
   "metadata": {},
   "outputs": [],
   "source": [
    "y_pred = np.squeeze(y_pred)\n",
    "y_pred = (y_pred >= 0.5)"
   ]
  },
  {
   "cell_type": "code",
   "execution_count": 771,
   "id": "aaa2078e",
   "metadata": {},
   "outputs": [
    {
     "name": "stdout",
     "output_type": "stream",
     "text": [
      "Test_accuracy with NN (undersampling)  : 0.751\n",
      "Test_precision with NN (undersampling) : 0.259\n",
      "Test_recall with NN (undersampling)    : 0.764\n"
     ]
    }
   ],
   "source": [
    "from sklearn import metrics\n",
    "\n",
    "test_accuracy = metrics.accuracy_score(y_test, y_pred)\n",
    "test_precision = metrics.precision_score(y_test, y_pred)\n",
    "test_recall = metrics.recall_score(y_test, y_pred)\n",
    "\n",
    "print(f'Test_accuracy with NN (undersampling)  : {round(test_accuracy,3)}')\n",
    "print(f'Test_precision with NN (undersampling) : {round(test_precision,3)}')\n",
    "print(f'Test_recall with NN (undersampling)    : {round(test_recall,3)}')"
   ]
  },
  {
   "cell_type": "markdown",
   "id": "a5924a90",
   "metadata": {},
   "source": [
    "<h3> Neural Networks (oversampling)  </h3>"
   ]
  },
  {
   "cell_type": "code",
   "execution_count": 772,
   "id": "2ea24fc0",
   "metadata": {},
   "outputs": [],
   "source": [
    "X = df_labelencoded.drop('approval', axis = 1)\n",
    "X = StandardScaler().fit_transform(X)\n",
    "y = np.array(df_labelencoded['approval'])"
   ]
  },
  {
   "cell_type": "code",
   "execution_count": 773,
   "id": "6606b52e",
   "metadata": {},
   "outputs": [],
   "source": [
    "# please note that we are seperating, train, test and validation sets here, validation and test datasets \n",
    "# must not be oversampled due to data leakage problem!"
   ]
  },
  {
   "cell_type": "code",
   "execution_count": 774,
   "id": "599b7bf0",
   "metadata": {},
   "outputs": [],
   "source": [
    "X_train_f, X_test, y_train_f, y_test = train_test_split(X, y, test_size = 0.15, random_state = 42)\n",
    "X_train, X_val, y_train, y_val = train_test_split(X_train_f, y_train_f, test_size = 0.2, random_state = 42)"
   ]
  },
  {
   "cell_type": "code",
   "execution_count": 775,
   "id": "c2a78091",
   "metadata": {},
   "outputs": [],
   "source": [
    "SM = SMOTENC(categorical_features = cat_col_indx, k_neighbors=3)\n",
    "X_train_oversmpl, y_train_oversmpl = SM.fit_resample(X_train, y_train)"
   ]
  },
  {
   "cell_type": "code",
   "execution_count": 776,
   "id": "cc34afa6",
   "metadata": {},
   "outputs": [],
   "source": [
    "def overSample_Base_model():\n",
    "\n",
    "    model = Sequential()\n",
    "    input_shapes = (8,)\n",
    "    model.add(Dense(128, activation='relu', input_shape = input_shapes))\n",
    "    model.add(BatchNormalization())\n",
    "    model.add(Dropout(0.5))\n",
    "    model.add(Dense(64, activation='relu'))\n",
    "    model.add(BatchNormalization())\n",
    "    model.add(Dropout(0.5))\n",
    "    model.add(Dense(1, activation='sigmoid'))\n",
    "    \n",
    "    return model\n",
    "\n",
    "NN_model = overSample_Base_model()    "
   ]
  },
  {
   "cell_type": "code",
   "execution_count": 777,
   "id": "d50bb208",
   "metadata": {},
   "outputs": [
    {
     "name": "stdout",
     "output_type": "stream",
     "text": [
      "Model: \"sequential_12\"\n",
      "_________________________________________________________________\n",
      " Layer (type)                Output Shape              Param #   \n",
      "=================================================================\n",
      " dense_36 (Dense)            (None, 128)               1152      \n",
      "                                                                 \n",
      " batch_normalization_24 (Bat  (None, 128)              512       \n",
      " chNormalization)                                                \n",
      "                                                                 \n",
      " dropout_24 (Dropout)        (None, 128)               0         \n",
      "                                                                 \n",
      " dense_37 (Dense)            (None, 64)                8256      \n",
      "                                                                 \n",
      " batch_normalization_25 (Bat  (None, 64)               256       \n",
      " chNormalization)                                                \n",
      "                                                                 \n",
      " dropout_25 (Dropout)        (None, 64)                0         \n",
      "                                                                 \n",
      " dense_38 (Dense)            (None, 1)                 65        \n",
      "                                                                 \n",
      "=================================================================\n",
      "Total params: 10,241\n",
      "Trainable params: 9,857\n",
      "Non-trainable params: 384\n",
      "_________________________________________________________________\n"
     ]
    }
   ],
   "source": [
    "NN_model.summary()"
   ]
  },
  {
   "cell_type": "code",
   "execution_count": 778,
   "id": "627abae7",
   "metadata": {},
   "outputs": [],
   "source": [
    "opt = Adam(learning_rate=0.005)\n",
    "NN_model.compile(optimizer = opt, loss='binary_crossentropy', metrics=['accuracy'])"
   ]
  },
  {
   "cell_type": "code",
   "execution_count": 779,
   "id": "11df5005",
   "metadata": {},
   "outputs": [
    {
     "name": "stdout",
     "output_type": "stream",
     "text": [
      "Epoch 1/100\n",
      "43/43 - 1s - loss: 0.6132 - accuracy: 0.7187 - val_loss: 0.5655 - val_accuracy: 0.7177 - 1s/epoch - 25ms/step\n",
      "Epoch 2/100\n",
      "43/43 - 0s - loss: 0.5030 - accuracy: 0.7594 - val_loss: 0.5877 - val_accuracy: 0.6517 - 195ms/epoch - 5ms/step\n",
      "Epoch 3/100\n",
      "43/43 - 0s - loss: 0.4794 - accuracy: 0.7744 - val_loss: 0.5137 - val_accuracy: 0.7348 - 158ms/epoch - 4ms/step\n",
      "Epoch 4/100\n",
      "43/43 - 0s - loss: 0.4758 - accuracy: 0.7727 - val_loss: 0.5215 - val_accuracy: 0.7005 - 145ms/epoch - 3ms/step\n",
      "Epoch 5/100\n",
      "43/43 - 0s - loss: 0.4639 - accuracy: 0.7763 - val_loss: 0.5097 - val_accuracy: 0.7058 - 151ms/epoch - 4ms/step\n",
      "Epoch 6/100\n",
      "43/43 - 0s - loss: 0.4667 - accuracy: 0.7824 - val_loss: 0.5040 - val_accuracy: 0.7045 - 149ms/epoch - 3ms/step\n",
      "Epoch 7/100\n",
      "43/43 - 0s - loss: 0.4608 - accuracy: 0.7837 - val_loss: 0.4758 - val_accuracy: 0.7309 - 152ms/epoch - 4ms/step\n",
      "Epoch 8/100\n",
      "43/43 - 0s - loss: 0.4549 - accuracy: 0.7837 - val_loss: 0.4617 - val_accuracy: 0.7282 - 148ms/epoch - 3ms/step\n",
      "Epoch 9/100\n",
      "43/43 - 0s - loss: 0.4527 - accuracy: 0.7857 - val_loss: 0.4596 - val_accuracy: 0.7322 - 149ms/epoch - 3ms/step\n",
      "Epoch 10/100\n",
      "43/43 - 0s - loss: 0.4562 - accuracy: 0.7830 - val_loss: 0.4352 - val_accuracy: 0.7454 - 147ms/epoch - 3ms/step\n",
      "Epoch 11/100\n",
      "43/43 - 0s - loss: 0.4479 - accuracy: 0.7930 - val_loss: 0.4561 - val_accuracy: 0.7414 - 146ms/epoch - 3ms/step\n",
      "Epoch 12/100\n",
      "43/43 - 0s - loss: 0.4577 - accuracy: 0.7854 - val_loss: 0.4575 - val_accuracy: 0.7493 - 145ms/epoch - 3ms/step\n",
      "Epoch 13/100\n",
      "43/43 - 0s - loss: 0.4507 - accuracy: 0.7906 - val_loss: 0.4248 - val_accuracy: 0.7704 - 153ms/epoch - 4ms/step\n",
      "Epoch 14/100\n",
      "43/43 - 0s - loss: 0.4461 - accuracy: 0.7926 - val_loss: 0.4317 - val_accuracy: 0.7639 - 148ms/epoch - 3ms/step\n",
      "Epoch 15/100\n",
      "43/43 - 0s - loss: 0.4427 - accuracy: 0.7948 - val_loss: 0.4553 - val_accuracy: 0.7348 - 153ms/epoch - 4ms/step\n",
      "Epoch 16/100\n",
      "43/43 - 0s - loss: 0.4328 - accuracy: 0.7947 - val_loss: 0.4517 - val_accuracy: 0.7493 - 158ms/epoch - 4ms/step\n",
      "Epoch 17/100\n",
      "43/43 - 0s - loss: 0.4438 - accuracy: 0.7904 - val_loss: 0.4373 - val_accuracy: 0.7480 - 154ms/epoch - 4ms/step\n",
      "Epoch 18/100\n",
      "43/43 - 0s - loss: 0.4314 - accuracy: 0.8021 - val_loss: 0.4340 - val_accuracy: 0.7586 - 153ms/epoch - 4ms/step\n",
      "Epoch 19/100\n",
      "43/43 - 0s - loss: 0.4441 - accuracy: 0.7917 - val_loss: 0.4310 - val_accuracy: 0.7665 - 163ms/epoch - 4ms/step\n",
      "Epoch 20/100\n",
      "43/43 - 0s - loss: 0.4347 - accuracy: 0.7965 - val_loss: 0.4552 - val_accuracy: 0.7414 - 151ms/epoch - 4ms/step\n",
      "Epoch 21/100\n",
      "43/43 - 0s - loss: 0.4336 - accuracy: 0.7960 - val_loss: 0.4501 - val_accuracy: 0.7427 - 154ms/epoch - 4ms/step\n",
      "Epoch 22/100\n",
      "43/43 - 0s - loss: 0.4328 - accuracy: 0.7993 - val_loss: 0.4183 - val_accuracy: 0.7731 - 152ms/epoch - 4ms/step\n",
      "Epoch 23/100\n",
      "43/43 - 0s - loss: 0.4331 - accuracy: 0.7999 - val_loss: 0.4355 - val_accuracy: 0.7559 - 153ms/epoch - 4ms/step\n",
      "Epoch 24/100\n",
      "43/43 - 0s - loss: 0.4244 - accuracy: 0.8015 - val_loss: 0.4372 - val_accuracy: 0.7586 - 150ms/epoch - 3ms/step\n",
      "Epoch 25/100\n",
      "43/43 - 0s - loss: 0.4288 - accuracy: 0.8006 - val_loss: 0.4308 - val_accuracy: 0.7612 - 151ms/epoch - 4ms/step\n",
      "Epoch 26/100\n",
      "43/43 - 0s - loss: 0.4217 - accuracy: 0.8052 - val_loss: 0.4397 - val_accuracy: 0.7652 - 147ms/epoch - 3ms/step\n",
      "Epoch 27/100\n",
      "43/43 - 0s - loss: 0.4313 - accuracy: 0.8062 - val_loss: 0.4653 - val_accuracy: 0.7335 - 153ms/epoch - 4ms/step\n",
      "Epoch 28/100\n",
      "43/43 - 0s - loss: 0.4204 - accuracy: 0.8076 - val_loss: 0.4419 - val_accuracy: 0.7573 - 153ms/epoch - 4ms/step\n",
      "Epoch 29/100\n",
      "43/43 - 0s - loss: 0.4250 - accuracy: 0.8038 - val_loss: 0.4400 - val_accuracy: 0.7493 - 147ms/epoch - 3ms/step\n",
      "Epoch 30/100\n",
      "43/43 - 0s - loss: 0.4205 - accuracy: 0.8147 - val_loss: 0.4496 - val_accuracy: 0.7493 - 148ms/epoch - 3ms/step\n",
      "Epoch 31/100\n",
      "43/43 - 0s - loss: 0.4160 - accuracy: 0.8128 - val_loss: 0.4369 - val_accuracy: 0.7639 - 150ms/epoch - 3ms/step\n",
      "Epoch 32/100\n",
      "43/43 - 0s - loss: 0.4138 - accuracy: 0.8045 - val_loss: 0.4263 - val_accuracy: 0.7665 - 147ms/epoch - 3ms/step\n",
      "Epoch 33/100\n",
      "43/43 - 0s - loss: 0.4165 - accuracy: 0.8101 - val_loss: 0.4599 - val_accuracy: 0.7388 - 148ms/epoch - 3ms/step\n",
      "Epoch 34/100\n",
      "43/43 - 0s - loss: 0.4193 - accuracy: 0.8140 - val_loss: 0.4209 - val_accuracy: 0.7731 - 149ms/epoch - 3ms/step\n",
      "Epoch 35/100\n",
      "43/43 - 0s - loss: 0.4117 - accuracy: 0.8160 - val_loss: 0.4771 - val_accuracy: 0.7401 - 149ms/epoch - 3ms/step\n",
      "Epoch 36/100\n",
      "43/43 - 0s - loss: 0.4130 - accuracy: 0.8073 - val_loss: 0.4352 - val_accuracy: 0.7691 - 148ms/epoch - 3ms/step\n",
      "Epoch 37/100\n",
      "43/43 - 0s - loss: 0.4155 - accuracy: 0.8086 - val_loss: 0.4481 - val_accuracy: 0.7533 - 152ms/epoch - 4ms/step\n",
      "Epoch 38/100\n",
      "43/43 - 0s - loss: 0.4184 - accuracy: 0.8128 - val_loss: 0.4345 - val_accuracy: 0.7678 - 149ms/epoch - 3ms/step\n",
      "Epoch 39/100\n",
      "43/43 - 0s - loss: 0.4178 - accuracy: 0.8119 - val_loss: 0.4201 - val_accuracy: 0.7784 - 144ms/epoch - 3ms/step\n",
      "Epoch 40/100\n",
      "43/43 - 0s - loss: 0.4121 - accuracy: 0.8117 - val_loss: 0.4399 - val_accuracy: 0.7731 - 153ms/epoch - 4ms/step\n",
      "Epoch 41/100\n",
      "43/43 - 0s - loss: 0.4087 - accuracy: 0.8167 - val_loss: 0.4333 - val_accuracy: 0.7704 - 152ms/epoch - 4ms/step\n",
      "Epoch 42/100\n",
      "43/43 - 0s - loss: 0.4057 - accuracy: 0.8167 - val_loss: 0.4284 - val_accuracy: 0.7639 - 180ms/epoch - 4ms/step\n",
      "Epoch 43/100\n",
      "43/43 - 0s - loss: 0.4139 - accuracy: 0.8110 - val_loss: 0.4543 - val_accuracy: 0.7546 - 153ms/epoch - 4ms/step\n",
      "Epoch 44/100\n",
      "43/43 - 0s - loss: 0.4121 - accuracy: 0.8125 - val_loss: 0.3976 - val_accuracy: 0.7982 - 164ms/epoch - 4ms/step\n",
      "Epoch 45/100\n",
      "43/43 - 0s - loss: 0.4087 - accuracy: 0.8138 - val_loss: 0.4420 - val_accuracy: 0.7665 - 161ms/epoch - 4ms/step\n",
      "Epoch 46/100\n",
      "43/43 - 0s - loss: 0.4076 - accuracy: 0.8125 - val_loss: 0.3972 - val_accuracy: 0.8061 - 164ms/epoch - 4ms/step\n",
      "Epoch 47/100\n",
      "43/43 - 0s - loss: 0.4079 - accuracy: 0.8115 - val_loss: 0.4686 - val_accuracy: 0.7507 - 174ms/epoch - 4ms/step\n",
      "Epoch 48/100\n",
      "43/43 - 0s - loss: 0.4111 - accuracy: 0.8175 - val_loss: 0.4073 - val_accuracy: 0.7810 - 164ms/epoch - 4ms/step\n",
      "Epoch 49/100\n",
      "43/43 - 0s - loss: 0.4136 - accuracy: 0.8132 - val_loss: 0.4332 - val_accuracy: 0.7770 - 180ms/epoch - 4ms/step\n",
      "Epoch 50/100\n",
      "43/43 - 0s - loss: 0.4027 - accuracy: 0.8203 - val_loss: 0.4110 - val_accuracy: 0.7863 - 164ms/epoch - 4ms/step\n",
      "Epoch 51/100\n",
      "43/43 - 0s - loss: 0.4061 - accuracy: 0.8128 - val_loss: 0.4311 - val_accuracy: 0.7810 - 156ms/epoch - 4ms/step\n",
      "Epoch 52/100\n",
      "43/43 - 0s - loss: 0.4064 - accuracy: 0.8151 - val_loss: 0.4156 - val_accuracy: 0.7770 - 148ms/epoch - 3ms/step\n",
      "Epoch 53/100\n",
      "43/43 - 0s - loss: 0.3989 - accuracy: 0.8199 - val_loss: 0.4003 - val_accuracy: 0.7916 - 172ms/epoch - 4ms/step\n",
      "Epoch 54/100\n",
      "43/43 - 0s - loss: 0.3963 - accuracy: 0.8234 - val_loss: 0.4321 - val_accuracy: 0.7625 - 160ms/epoch - 4ms/step\n",
      "Epoch 55/100\n",
      "43/43 - 0s - loss: 0.3980 - accuracy: 0.8253 - val_loss: 0.4307 - val_accuracy: 0.7704 - 144ms/epoch - 3ms/step\n",
      "Epoch 56/100\n",
      "43/43 - 0s - loss: 0.4059 - accuracy: 0.8114 - val_loss: 0.4378 - val_accuracy: 0.7652 - 143ms/epoch - 3ms/step\n",
      "Epoch 57/100\n",
      "43/43 - 0s - loss: 0.3963 - accuracy: 0.8199 - val_loss: 0.3991 - val_accuracy: 0.7968 - 143ms/epoch - 3ms/step\n",
      "Epoch 58/100\n",
      "43/43 - 0s - loss: 0.3950 - accuracy: 0.8236 - val_loss: 0.4148 - val_accuracy: 0.7863 - 140ms/epoch - 3ms/step\n",
      "Epoch 59/100\n",
      "43/43 - 0s - loss: 0.4035 - accuracy: 0.8223 - val_loss: 0.4105 - val_accuracy: 0.7823 - 140ms/epoch - 3ms/step\n",
      "Epoch 60/100\n",
      "43/43 - 0s - loss: 0.4003 - accuracy: 0.8182 - val_loss: 0.4053 - val_accuracy: 0.7889 - 152ms/epoch - 4ms/step\n",
      "Epoch 61/100\n",
      "43/43 - 0s - loss: 0.3978 - accuracy: 0.8268 - val_loss: 0.4334 - val_accuracy: 0.7731 - 156ms/epoch - 4ms/step\n",
      "Epoch 62/100\n",
      "43/43 - 0s - loss: 0.3926 - accuracy: 0.8244 - val_loss: 0.4388 - val_accuracy: 0.7731 - 152ms/epoch - 4ms/step\n",
      "Epoch 63/100\n",
      "43/43 - 0s - loss: 0.3946 - accuracy: 0.8257 - val_loss: 0.4271 - val_accuracy: 0.7704 - 192ms/epoch - 4ms/step\n",
      "Epoch 64/100\n",
      "43/43 - 0s - loss: 0.3954 - accuracy: 0.8244 - val_loss: 0.4094 - val_accuracy: 0.7929 - 192ms/epoch - 4ms/step\n",
      "Epoch 65/100\n",
      "43/43 - 0s - loss: 0.3969 - accuracy: 0.8238 - val_loss: 0.4434 - val_accuracy: 0.7652 - 156ms/epoch - 4ms/step\n",
      "Epoch 66/100\n",
      "43/43 - 0s - loss: 0.3945 - accuracy: 0.8197 - val_loss: 0.4630 - val_accuracy: 0.7441 - 147ms/epoch - 3ms/step\n"
     ]
    },
    {
     "name": "stdout",
     "output_type": "stream",
     "text": [
      "Epoch 67/100\n",
      "43/43 - 0s - loss: 0.3870 - accuracy: 0.8242 - val_loss: 0.4576 - val_accuracy: 0.7573 - 140ms/epoch - 3ms/step\n",
      "Epoch 68/100\n",
      "43/43 - 0s - loss: 0.3887 - accuracy: 0.8249 - val_loss: 0.4111 - val_accuracy: 0.7810 - 164ms/epoch - 4ms/step\n",
      "Epoch 69/100\n",
      "43/43 - 0s - loss: 0.3856 - accuracy: 0.8258 - val_loss: 0.4260 - val_accuracy: 0.7810 - 200ms/epoch - 5ms/step\n",
      "Epoch 70/100\n",
      "43/43 - 0s - loss: 0.3878 - accuracy: 0.8310 - val_loss: 0.4507 - val_accuracy: 0.7665 - 176ms/epoch - 4ms/step\n",
      "Epoch 71/100\n",
      "43/43 - 0s - loss: 0.3842 - accuracy: 0.8309 - val_loss: 0.3937 - val_accuracy: 0.8061 - 172ms/epoch - 4ms/step\n",
      "Epoch 72/100\n",
      "43/43 - 0s - loss: 0.3832 - accuracy: 0.8310 - val_loss: 0.4172 - val_accuracy: 0.7955 - 144ms/epoch - 3ms/step\n",
      "Epoch 73/100\n",
      "43/43 - 0s - loss: 0.3872 - accuracy: 0.8270 - val_loss: 0.4479 - val_accuracy: 0.7797 - 148ms/epoch - 3ms/step\n",
      "Epoch 74/100\n",
      "43/43 - 0s - loss: 0.3893 - accuracy: 0.8281 - val_loss: 0.4721 - val_accuracy: 0.7520 - 156ms/epoch - 4ms/step\n",
      "Epoch 75/100\n",
      "43/43 - 0s - loss: 0.3998 - accuracy: 0.8234 - val_loss: 0.4080 - val_accuracy: 0.7929 - 152ms/epoch - 4ms/step\n",
      "Epoch 76/100\n",
      "43/43 - 0s - loss: 0.3939 - accuracy: 0.8297 - val_loss: 0.4192 - val_accuracy: 0.7902 - 148ms/epoch - 3ms/step\n",
      "Epoch 77/100\n",
      "43/43 - 0s - loss: 0.3849 - accuracy: 0.8335 - val_loss: 0.4321 - val_accuracy: 0.7850 - 149ms/epoch - 3ms/step\n",
      "Epoch 78/100\n",
      "43/43 - 0s - loss: 0.3857 - accuracy: 0.8335 - val_loss: 0.4208 - val_accuracy: 0.7836 - 188ms/epoch - 4ms/step\n",
      "Epoch 79/100\n",
      "43/43 - 0s - loss: 0.3792 - accuracy: 0.8361 - val_loss: 0.4004 - val_accuracy: 0.8074 - 172ms/epoch - 4ms/step\n",
      "Epoch 80/100\n",
      "43/43 - 0s - loss: 0.3906 - accuracy: 0.8310 - val_loss: 0.3965 - val_accuracy: 0.7916 - 160ms/epoch - 4ms/step\n",
      "Epoch 81/100\n",
      "43/43 - 0s - loss: 0.3880 - accuracy: 0.8312 - val_loss: 0.3869 - val_accuracy: 0.8061 - 164ms/epoch - 4ms/step\n",
      "Epoch 82/100\n",
      "43/43 - 0s - loss: 0.3842 - accuracy: 0.8303 - val_loss: 0.4218 - val_accuracy: 0.7850 - 160ms/epoch - 4ms/step\n",
      "Epoch 83/100\n",
      "43/43 - 0s - loss: 0.3922 - accuracy: 0.8312 - val_loss: 0.4012 - val_accuracy: 0.7889 - 144ms/epoch - 3ms/step\n",
      "Epoch 84/100\n",
      "43/43 - 0s - loss: 0.3806 - accuracy: 0.8294 - val_loss: 0.3832 - val_accuracy: 0.8047 - 144ms/epoch - 3ms/step\n",
      "Epoch 85/100\n",
      "43/43 - 0s - loss: 0.3820 - accuracy: 0.8303 - val_loss: 0.3954 - val_accuracy: 0.8087 - 180ms/epoch - 4ms/step\n",
      "Epoch 86/100\n",
      "43/43 - 0s - loss: 0.3862 - accuracy: 0.8312 - val_loss: 0.4228 - val_accuracy: 0.7863 - 168ms/epoch - 4ms/step\n",
      "Epoch 87/100\n",
      "43/43 - 0s - loss: 0.3941 - accuracy: 0.8268 - val_loss: 0.4165 - val_accuracy: 0.7863 - 148ms/epoch - 3ms/step\n",
      "Epoch 88/100\n",
      "43/43 - 0s - loss: 0.3965 - accuracy: 0.8264 - val_loss: 0.4496 - val_accuracy: 0.7718 - 146ms/epoch - 3ms/step\n",
      "Epoch 89/100\n",
      "43/43 - 0s - loss: 0.3820 - accuracy: 0.8368 - val_loss: 0.4287 - val_accuracy: 0.7863 - 144ms/epoch - 3ms/step\n",
      "Epoch 90/100\n",
      "43/43 - 0s - loss: 0.3893 - accuracy: 0.8251 - val_loss: 0.4429 - val_accuracy: 0.7652 - 156ms/epoch - 4ms/step\n",
      "Epoch 91/100\n",
      "43/43 - 0s - loss: 0.3846 - accuracy: 0.8314 - val_loss: 0.4348 - val_accuracy: 0.7744 - 140ms/epoch - 3ms/step\n",
      "Epoch 92/100\n",
      "43/43 - 0s - loss: 0.3842 - accuracy: 0.8283 - val_loss: 0.4309 - val_accuracy: 0.7744 - 152ms/epoch - 4ms/step\n",
      "Epoch 93/100\n",
      "43/43 - 0s - loss: 0.3865 - accuracy: 0.8286 - val_loss: 0.4060 - val_accuracy: 0.7889 - 180ms/epoch - 4ms/step\n",
      "Epoch 94/100\n",
      "43/43 - 0s - loss: 0.3882 - accuracy: 0.8344 - val_loss: 0.4084 - val_accuracy: 0.7929 - 148ms/epoch - 3ms/step\n",
      "Epoch 95/100\n",
      "43/43 - 0s - loss: 0.3836 - accuracy: 0.8307 - val_loss: 0.4284 - val_accuracy: 0.7863 - 144ms/epoch - 3ms/step\n",
      "Epoch 96/100\n",
      "43/43 - 0s - loss: 0.3843 - accuracy: 0.8299 - val_loss: 0.4193 - val_accuracy: 0.7823 - 144ms/epoch - 3ms/step\n",
      "Epoch 97/100\n",
      "43/43 - 0s - loss: 0.3839 - accuracy: 0.8320 - val_loss: 0.4233 - val_accuracy: 0.7850 - 172ms/epoch - 4ms/step\n",
      "Epoch 98/100\n",
      "43/43 - 0s - loss: 0.3853 - accuracy: 0.8292 - val_loss: 0.4117 - val_accuracy: 0.8047 - 148ms/epoch - 3ms/step\n",
      "Epoch 99/100\n",
      "43/43 - 0s - loss: 0.3859 - accuracy: 0.8336 - val_loss: 0.4296 - val_accuracy: 0.7850 - 149ms/epoch - 3ms/step\n",
      "Epoch 100/100\n",
      "43/43 - 0s - loss: 0.3796 - accuracy: 0.8346 - val_loss: 0.4282 - val_accuracy: 0.7876 - 184ms/epoch - 4ms/step\n"
     ]
    }
   ],
   "source": [
    "history = NN_model.fit(X_train_oversmpl, y_train_oversmpl, validation_data=(X_val,y_val), batch_size=128, epochs=100, shuffle=True, verbose=2)"
   ]
  },
  {
   "cell_type": "code",
   "execution_count": 780,
   "id": "ee3710d3",
   "metadata": {},
   "outputs": [
    {
     "name": "stdout",
     "output_type": "stream",
     "text": [
      "21/21 [==============================] - 0s 2ms/step\n"
     ]
    }
   ],
   "source": [
    "y_pred = NN_model.predict(X_test)"
   ]
  },
  {
   "cell_type": "code",
   "execution_count": 781,
   "id": "23e1eb6c",
   "metadata": {},
   "outputs": [],
   "source": [
    "y_pred = np.squeeze(y_pred)\n",
    "y_pred = (y_pred >= 0.5)"
   ]
  },
  {
   "cell_type": "code",
   "execution_count": 782,
   "id": "c07cc9de",
   "metadata": {},
   "outputs": [
    {
     "name": "stdout",
     "output_type": "stream",
     "text": [
      "Test_accuracy with NN (oversampling)  : 0.803\n",
      "Test_precision with NN (oversampling) : 0.341\n",
      "Test_recall with NN (oversampling)    : 0.7\n"
     ]
    }
   ],
   "source": [
    "from sklearn import metrics\n",
    "\n",
    "test_accuracy = metrics.accuracy_score(y_test, y_pred)\n",
    "test_precision = metrics.precision_score(y_test, y_pred)\n",
    "test_recall = metrics.recall_score(y_test, y_pred)\n",
    "\n",
    "\n",
    "print(f'Test_accuracy with NN (oversampling)  : {round(test_accuracy,3)}')\n",
    "print(f'Test_precision with NN (oversampling) : {round(test_precision,3)}')\n",
    "print(f'Test_recall with NN (oversampling)    : {round(test_recall,3)}')"
   ]
  },
  {
   "cell_type": "markdown",
   "id": "c1517957",
   "metadata": {},
   "source": [
    "<h3> Results comparison for some of the promissing methods </h3>\n",
    "<p>\n",
    "</p>\n",
    "<li> The most promising methods are listed as </li>\n",
    "<ul>\n",
    "<li> Ensembling (XGBoost) </li>\n",
    "<li> Logistic Regression with tuned HP </li>\n",
    "<li> Support Vector Classifier (oversampling) </li>\n",
    "<li> Neural Network (oversampling) </li>\n",
    "<p>\n",
    "</p>\n",
    "<strong>Note:</strong> results shows that most mehtod has more or less same performance. \n"
   ]
  },
  {
   "cell_type": "code",
   "execution_count": 833,
   "id": "98e12823",
   "metadata": {},
   "outputs": [
    {
     "data": {
      "text/html": [
       "<div>\n",
       "<style scoped>\n",
       "    .dataframe tbody tr th:only-of-type {\n",
       "        vertical-align: middle;\n",
       "    }\n",
       "\n",
       "    .dataframe tbody tr th {\n",
       "        vertical-align: top;\n",
       "    }\n",
       "\n",
       "    .dataframe thead th {\n",
       "        text-align: right;\n",
       "    }\n",
       "</style>\n",
       "<table border=\"1\" class=\"dataframe\">\n",
       "  <thead>\n",
       "    <tr style=\"text-align: center;\">\n",
       "      <th></th>\n",
       "      <th>Base-line (XGBoost)</th>\n",
       "      <th>Ensembling (XGBoost)</th>\n",
       "      <th>Log Reg with tuned HP (oversampling)</th>\n",
       "      <th>SVC with tuned HP (oversampling)</th>\n",
       "      <th>Neural Network (oversampling)</th>\n",
       "    </tr>\n",
       "    <tr>\n",
       "      <th>Metrics</th>\n",
       "      <th></th>\n",
       "      <th></th>\n",
       "      <th></th>\n",
       "      <th></th>\n",
       "      <th></th>\n",
       "    </tr>\n",
       "  </thead>\n",
       "  <tbody>\n",
       "    <tr>\n",
       "      <th>Accuracy</th>\n",
       "      <td>0.87</td>\n",
       "      <td>0.80</td>\n",
       "      <td>0.77</td>\n",
       "      <td>0.78</td>\n",
       "      <td>0.80</td>\n",
       "    </tr>\n",
       "    <tr>\n",
       "      <th>Precision</th>\n",
       "      <td>0.41</td>\n",
       "      <td>0.33</td>\n",
       "      <td>0.30</td>\n",
       "      <td>0.31</td>\n",
       "      <td>0.34</td>\n",
       "    </tr>\n",
       "    <tr>\n",
       "      <th>Recall</th>\n",
       "      <td>0.23</td>\n",
       "      <td>0.74</td>\n",
       "      <td>0.73</td>\n",
       "      <td>0.79</td>\n",
       "      <td>0.70</td>\n",
       "    </tr>\n",
       "  </tbody>\n",
       "</table>\n",
       "</div>"
      ],
      "text/plain": [
       "           Base-line (XGBoost)  Ensembling (XGBoost)  \\\n",
       "Metrics                                                \n",
       "Accuracy          0.87                  0.80           \n",
       "Precision         0.41                  0.33           \n",
       "Recall            0.23                  0.74           \n",
       "\n",
       "           Log Reg with tuned HP (oversampling)  \\\n",
       "Metrics                                           \n",
       "Accuracy                   0.77                   \n",
       "Precision                  0.30                   \n",
       "Recall                     0.73                   \n",
       "\n",
       "           SVC with tuned HP (oversampling)  Neural Network (oversampling)  \n",
       "Metrics                                                                     \n",
       "Accuracy                 0.78                            0.80               \n",
       "Precision                0.31                            0.34               \n",
       "Recall                   0.79                            0.70               "
      ]
     },
     "execution_count": 833,
     "metadata": {},
     "output_type": "execute_result"
    }
   ],
   "source": [
    "res_dict = {'Base-line (XGBoost)' : [0.87, 0.41, 0.23],\n",
    "            'Ensembling (XGBoost)' : [0.80, 0.33, 0.74],\n",
    "           'Log Reg with tuned HP (oversampling)': [0.77, 0.30, 0.73],\n",
    "           'SVC with tuned HP (oversampling)': [0.78, 0.31, 0.79],\n",
    "           'Neural Network (oversampling)' : [0.8, 0.34, 0.7],\n",
    "           'Metrics' : ['Accuracy', 'Precision', 'Recall']\n",
    "          }\n",
    "\n",
    "results= pd.DataFrame(res_dict)\n",
    "results = results.set_index('Metrics')\n",
    "pd.set_option('display.colheader_justify', 'center')\n",
    "results"
   ]
  },
  {
   "cell_type": "code",
   "execution_count": 834,
   "id": "236d40a3",
   "metadata": {},
   "outputs": [
    {
     "data": {
      "text/html": [
       "<style type=\"text/css\">\n",
       "#T_8b637_ th {\n",
       "  text-align: center;\n",
       "}\n",
       "#T_8b637_row0_col0, #T_8b637_row0_col1, #T_8b637_row0_col2, #T_8b637_row0_col3, #T_8b637_row0_col4, #T_8b637_row1_col0, #T_8b637_row1_col1, #T_8b637_row1_col2, #T_8b637_row1_col3, #T_8b637_row1_col4, #T_8b637_row2_col0, #T_8b637_row2_col1, #T_8b637_row2_col2, #T_8b637_row2_col3, #T_8b637_row2_col4 {\n",
       "  text-align: center;\n",
       "}\n",
       "</style>\n",
       "<table id=\"T_8b637_\">\n",
       "  <thead>\n",
       "    <tr>\n",
       "      <th class=\"blank level0\" >&nbsp;</th>\n",
       "      <th class=\"col_heading level0 col0\" >Base-line (XGBoost)</th>\n",
       "      <th class=\"col_heading level0 col1\" >Ensembling (XGBoost)</th>\n",
       "      <th class=\"col_heading level0 col2\" >Log Reg with tuned HP (oversampling)</th>\n",
       "      <th class=\"col_heading level0 col3\" >SVC with tuned HP (oversampling)</th>\n",
       "      <th class=\"col_heading level0 col4\" >Neural Network (oversampling)</th>\n",
       "    </tr>\n",
       "    <tr>\n",
       "      <th class=\"index_name level0\" >Metrics</th>\n",
       "      <th class=\"blank col0\" >&nbsp;</th>\n",
       "      <th class=\"blank col1\" >&nbsp;</th>\n",
       "      <th class=\"blank col2\" >&nbsp;</th>\n",
       "      <th class=\"blank col3\" >&nbsp;</th>\n",
       "      <th class=\"blank col4\" >&nbsp;</th>\n",
       "    </tr>\n",
       "  </thead>\n",
       "  <tbody>\n",
       "    <tr>\n",
       "      <th id=\"T_8b637_level0_row0\" class=\"row_heading level0 row0\" >Accuracy</th>\n",
       "      <td id=\"T_8b637_row0_col0\" class=\"data row0 col0\" >0.870000</td>\n",
       "      <td id=\"T_8b637_row0_col1\" class=\"data row0 col1\" >0.800000</td>\n",
       "      <td id=\"T_8b637_row0_col2\" class=\"data row0 col2\" >0.770000</td>\n",
       "      <td id=\"T_8b637_row0_col3\" class=\"data row0 col3\" >0.780000</td>\n",
       "      <td id=\"T_8b637_row0_col4\" class=\"data row0 col4\" >0.800000</td>\n",
       "    </tr>\n",
       "    <tr>\n",
       "      <th id=\"T_8b637_level0_row1\" class=\"row_heading level0 row1\" >Precision</th>\n",
       "      <td id=\"T_8b637_row1_col0\" class=\"data row1 col0\" >0.410000</td>\n",
       "      <td id=\"T_8b637_row1_col1\" class=\"data row1 col1\" >0.330000</td>\n",
       "      <td id=\"T_8b637_row1_col2\" class=\"data row1 col2\" >0.300000</td>\n",
       "      <td id=\"T_8b637_row1_col3\" class=\"data row1 col3\" >0.310000</td>\n",
       "      <td id=\"T_8b637_row1_col4\" class=\"data row1 col4\" >0.340000</td>\n",
       "    </tr>\n",
       "    <tr>\n",
       "      <th id=\"T_8b637_level0_row2\" class=\"row_heading level0 row2\" >Recall</th>\n",
       "      <td id=\"T_8b637_row2_col0\" class=\"data row2 col0\" >0.230000</td>\n",
       "      <td id=\"T_8b637_row2_col1\" class=\"data row2 col1\" >0.740000</td>\n",
       "      <td id=\"T_8b637_row2_col2\" class=\"data row2 col2\" >0.730000</td>\n",
       "      <td id=\"T_8b637_row2_col3\" class=\"data row2 col3\" >0.790000</td>\n",
       "      <td id=\"T_8b637_row2_col4\" class=\"data row2 col4\" >0.700000</td>\n",
       "    </tr>\n",
       "  </tbody>\n",
       "</table>\n"
      ],
      "text/plain": [
       "<pandas.io.formats.style.Styler at 0x1ef3ec53430>"
      ]
     },
     "execution_count": 834,
     "metadata": {},
     "output_type": "execute_result"
    }
   ],
   "source": [
    "df_center_aligned = results.style.set_table_styles([dict(selector='th', props=[('text-align', 'center')])])\n",
    "df_center_aligned.set_properties(**{'text-align': 'center'})\n",
    "df_center_aligned"
   ]
  },
  {
   "cell_type": "markdown",
   "id": "f098707f",
   "metadata": {},
   "source": [
    "<p>\n",
    "</p>\n",
    "<li> <strong> Final remarks: </strong> Most methods provided a very similar range of metrics. Apparently, Ensembling method could outperform other techniques.\n",
    "So for this data set, I can comment that it is not about the use of ML mehtods, skewness handling methods, HP tunning or feature engineering. \n",
    "<strong> Its all about the data suffering from few number of samples, lack of number and informative features while having skewness. </strong></li>"
   ]
  },
  {
   "cell_type": "code",
   "execution_count": null,
   "id": "c85268d6",
   "metadata": {},
   "outputs": [],
   "source": []
  }
 ],
 "metadata": {
  "kernelspec": {
   "display_name": "Python 3 (ipykernel)",
   "language": "python",
   "name": "python3"
  },
  "language_info": {
   "codemirror_mode": {
    "name": "ipython",
    "version": 3
   },
   "file_extension": ".py",
   "mimetype": "text/x-python",
   "name": "python",
   "nbconvert_exporter": "python",
   "pygments_lexer": "ipython3",
   "version": "3.9.7"
  }
 },
 "nbformat": 4,
 "nbformat_minor": 5
}
